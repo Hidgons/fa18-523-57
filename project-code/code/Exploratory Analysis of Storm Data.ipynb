{
 "cells": [
  {
   "cell_type": "markdown",
   "metadata": {},
   "source": [
    "# Storm Data Visualization"
   ]
  },
  {
   "cell_type": "markdown",
   "metadata": {},
   "source": [
    "## Big Data Applications - Fall 2018"
   ]
  },
  {
   "cell_type": "markdown",
   "metadata": {},
   "source": [
    "### Indiana University"
   ]
  },
  {
   "cell_type": "markdown",
   "metadata": {},
   "source": [
    "### Class: E523 | Group: fa18-523-57, fa18-523-58"
   ]
  },
  {
   "cell_type": "code",
   "execution_count": 1,
   "metadata": {},
   "outputs": [],
   "source": [
    "import warnings\n",
    "warnings.filterwarnings(\"ignore\")"
   ]
  },
  {
   "cell_type": "code",
   "execution_count": 2,
   "metadata": {},
   "outputs": [],
   "source": [
    "import pandas as pd\n",
    "import numpy as np\n",
    "import pymongo\n",
    "from pymongo import MongoClient"
   ]
  },
  {
   "cell_type": "code",
   "execution_count": 3,
   "metadata": {},
   "outputs": [],
   "source": [
    "import seaborn as sns\n",
    "import matplotlib.pyplot as plt\n",
    "%matplotlib inline"
   ]
  },
  {
   "cell_type": "markdown",
   "metadata": {},
   "source": [
    "### Importing Data stored in Azure Cosmos DB"
   ]
  },
  {
   "cell_type": "code",
   "execution_count": 4,
   "metadata": {},
   "outputs": [],
   "source": [
    "# Reading uri path from a file\n",
    "config_file = open('cosmos_db.config','r')\n",
    "uri_path = config_file.read()\n",
    "client = pymongo.MongoClient(uri_path)"
   ]
  },
  {
   "cell_type": "markdown",
   "metadata": {},
   "source": [
    "#### Give the client and collection names"
   ]
  },
  {
   "cell_type": "code",
   "execution_count": 5,
   "metadata": {},
   "outputs": [],
   "source": [
    "db = client['test']\n",
    "collection = db['storm_data']"
   ]
  },
  {
   "cell_type": "markdown",
   "metadata": {},
   "source": [
    "### Pull Data from DB cloud"
   ]
  },
  {
   "cell_type": "code",
   "execution_count": 6,
   "metadata": {},
   "outputs": [
    {
     "name": "stdout",
     "output_type": "stream",
     "text": [
      "Completed in  3.095  seconds\n"
     ]
    }
   ],
   "source": [
    "from time import time\n",
    "t0 = time()\n",
    "data = pd.DataFrame(list(collection.find()))\n",
    "print('Completed in ', np.round(time() - t0,3) , ' seconds')\n"
   ]
  },
  {
   "cell_type": "code",
   "execution_count": 7,
   "metadata": {},
   "outputs": [
    {
     "data": {
      "text/plain": [
       "((191716, 13), (131194, 13))"
      ]
     },
     "execution_count": 7,
     "metadata": {},
     "output_type": "execute_result"
    }
   ],
   "source": [
    "data.shape, data.drop_duplicates().shape"
   ]
  },
  {
   "cell_type": "markdown",
   "metadata": {},
   "source": [
    "### Check the data"
   ]
  },
  {
   "cell_type": "code",
   "execution_count": 8,
   "metadata": {},
   "outputs": [
    {
     "data": {
      "text/html": [
       "<div>\n",
       "<style scoped>\n",
       "    .dataframe tbody tr th:only-of-type {\n",
       "        vertical-align: middle;\n",
       "    }\n",
       "\n",
       "    .dataframe tbody tr th {\n",
       "        vertical-align: top;\n",
       "    }\n",
       "\n",
       "    .dataframe thead th {\n",
       "        text-align: right;\n",
       "    }\n",
       "</style>\n",
       "<table border=\"1\" class=\"dataframe\">\n",
       "  <thead>\n",
       "    <tr style=\"text-align: right;\">\n",
       "      <th></th>\n",
       "      <th>REGION</th>\n",
       "      <th>STORM_NO</th>\n",
       "      <th>NAME</th>\n",
       "      <th>ADVISORY</th>\n",
       "      <th>ADV_DATE</th>\n",
       "      <th>ADV_HOUR</th>\n",
       "      <th>SPEED</th>\n",
       "      <th>PRESSURE</th>\n",
       "      <th>TYPE</th>\n",
       "      <th>LAT</th>\n",
       "      <th>LONG_</th>\n",
       "      <th>LEN</th>\n",
       "      <th>geometry</th>\n",
       "    </tr>\n",
       "  </thead>\n",
       "  <tbody>\n",
       "    <tr>\n",
       "      <th>0</th>\n",
       "      <td>S</td>\n",
       "      <td>0</td>\n",
       "      <td>1997-12-02</td>\n",
       "      <td>0</td>\n",
       "      <td>1997-12-03</td>\n",
       "      <td>18</td>\n",
       "      <td>25</td>\n",
       "      <td>0</td>\n",
       "      <td>D</td>\n",
       "      <td>-8.6</td>\n",
       "      <td>0.0</td>\n",
       "      <td>24916.158492</td>\n",
       "      <td>None</td>\n",
       "    </tr>\n",
       "    <tr>\n",
       "      <th>1</th>\n",
       "      <td>I</td>\n",
       "      <td>0</td>\n",
       "      <td>1979-02-11</td>\n",
       "      <td>0</td>\n",
       "      <td>1979-02-11</td>\n",
       "      <td>12</td>\n",
       "      <td>-999</td>\n",
       "      <td>0</td>\n",
       "      <td>D</td>\n",
       "      <td>-16.4</td>\n",
       "      <td>0.0</td>\n",
       "      <td>120480.811401</td>\n",
       "      <td>None</td>\n",
       "    </tr>\n",
       "    <tr>\n",
       "      <th>2</th>\n",
       "      <td>A</td>\n",
       "      <td>6</td>\n",
       "      <td>FIFI</td>\n",
       "      <td>0</td>\n",
       "      <td>1958-09-06</td>\n",
       "      <td>6</td>\n",
       "      <td>65</td>\n",
       "      <td>0</td>\n",
       "      <td>S</td>\n",
       "      <td>15.6</td>\n",
       "      <td>-55.7</td>\n",
       "      <td>218179.688965</td>\n",
       "      <td>None</td>\n",
       "    </tr>\n",
       "    <tr>\n",
       "      <th>3</th>\n",
       "      <td>A</td>\n",
       "      <td>6</td>\n",
       "      <td>FRANCES</td>\n",
       "      <td>0</td>\n",
       "      <td>2004-09-02</td>\n",
       "      <td>0</td>\n",
       "      <td>120</td>\n",
       "      <td>939</td>\n",
       "      <td>H</td>\n",
       "      <td>22.2</td>\n",
       "      <td>-71.4</td>\n",
       "      <td>121127.729658</td>\n",
       "      <td>None</td>\n",
       "    </tr>\n",
       "    <tr>\n",
       "      <th>4</th>\n",
       "      <td>A</td>\n",
       "      <td>9</td>\n",
       "      <td>HELENE</td>\n",
       "      <td>0</td>\n",
       "      <td>1988-09-27</td>\n",
       "      <td>18</td>\n",
       "      <td>77</td>\n",
       "      <td>979</td>\n",
       "      <td>H</td>\n",
       "      <td>30.9</td>\n",
       "      <td>-51.9</td>\n",
       "      <td>141631.071665</td>\n",
       "      <td>None</td>\n",
       "    </tr>\n",
       "  </tbody>\n",
       "</table>\n",
       "</div>"
      ],
      "text/plain": [
       "  REGION  STORM_NO        NAME  ADVISORY    ADV_DATE  ADV_HOUR  SPEED  \\\n",
       "0      S         0  1997-12-02         0  1997-12-03        18     25   \n",
       "1      I         0  1979-02-11         0  1979-02-11        12   -999   \n",
       "2      A         6        FIFI         0  1958-09-06         6     65   \n",
       "3      A         6     FRANCES         0  2004-09-02         0    120   \n",
       "4      A         9      HELENE         0  1988-09-27        18     77   \n",
       "\n",
       "   PRESSURE TYPE   LAT  LONG_            LEN geometry  \n",
       "0         0    D  -8.6    0.0   24916.158492     None  \n",
       "1         0    D -16.4    0.0  120480.811401     None  \n",
       "2         0    S  15.6  -55.7  218179.688965     None  \n",
       "3       939    H  22.2  -71.4  121127.729658     None  \n",
       "4       979    H  30.9  -51.9  141631.071665     None  "
      ]
     },
     "execution_count": 8,
     "metadata": {},
     "output_type": "execute_result"
    }
   ],
   "source": [
    "data.head()"
   ]
  },
  {
   "cell_type": "markdown",
   "metadata": {},
   "source": [
    "### Taking the relevant columns"
   ]
  },
  {
   "cell_type": "code",
   "execution_count": 9,
   "metadata": {},
   "outputs": [
    {
     "data": {
      "text/html": [
       "<div>\n",
       "<style scoped>\n",
       "    .dataframe tbody tr th:only-of-type {\n",
       "        vertical-align: middle;\n",
       "    }\n",
       "\n",
       "    .dataframe tbody tr th {\n",
       "        vertical-align: top;\n",
       "    }\n",
       "\n",
       "    .dataframe thead th {\n",
       "        text-align: right;\n",
       "    }\n",
       "</style>\n",
       "<table border=\"1\" class=\"dataframe\">\n",
       "  <thead>\n",
       "    <tr style=\"text-align: right;\">\n",
       "      <th></th>\n",
       "      <th>ADV_DATE</th>\n",
       "      <th>ADV_HOUR</th>\n",
       "      <th>LAT</th>\n",
       "      <th>LONG</th>\n",
       "      <th>NAME</th>\n",
       "      <th>PRESSURE</th>\n",
       "      <th>REGION</th>\n",
       "      <th>SPEED</th>\n",
       "      <th>TYPE</th>\n",
       "      <th>LEN</th>\n",
       "    </tr>\n",
       "  </thead>\n",
       "  <tbody>\n",
       "    <tr>\n",
       "      <th>0</th>\n",
       "      <td>1997-12-03</td>\n",
       "      <td>18</td>\n",
       "      <td>-8.6</td>\n",
       "      <td>0.0</td>\n",
       "      <td>1997-12-02</td>\n",
       "      <td>0</td>\n",
       "      <td>S</td>\n",
       "      <td>25</td>\n",
       "      <td>D</td>\n",
       "      <td>24916.158492</td>\n",
       "    </tr>\n",
       "    <tr>\n",
       "      <th>1</th>\n",
       "      <td>1979-02-11</td>\n",
       "      <td>12</td>\n",
       "      <td>-16.4</td>\n",
       "      <td>0.0</td>\n",
       "      <td>1979-02-11</td>\n",
       "      <td>0</td>\n",
       "      <td>I</td>\n",
       "      <td>-999</td>\n",
       "      <td>D</td>\n",
       "      <td>120480.811401</td>\n",
       "    </tr>\n",
       "    <tr>\n",
       "      <th>2</th>\n",
       "      <td>1958-09-06</td>\n",
       "      <td>6</td>\n",
       "      <td>15.6</td>\n",
       "      <td>-55.7</td>\n",
       "      <td>FIFI</td>\n",
       "      <td>0</td>\n",
       "      <td>A</td>\n",
       "      <td>65</td>\n",
       "      <td>S</td>\n",
       "      <td>218179.688965</td>\n",
       "    </tr>\n",
       "    <tr>\n",
       "      <th>3</th>\n",
       "      <td>2004-09-02</td>\n",
       "      <td>0</td>\n",
       "      <td>22.2</td>\n",
       "      <td>-71.4</td>\n",
       "      <td>FRANCES</td>\n",
       "      <td>939</td>\n",
       "      <td>A</td>\n",
       "      <td>120</td>\n",
       "      <td>H</td>\n",
       "      <td>121127.729658</td>\n",
       "    </tr>\n",
       "    <tr>\n",
       "      <th>4</th>\n",
       "      <td>1988-09-27</td>\n",
       "      <td>18</td>\n",
       "      <td>30.9</td>\n",
       "      <td>-51.9</td>\n",
       "      <td>HELENE</td>\n",
       "      <td>979</td>\n",
       "      <td>A</td>\n",
       "      <td>77</td>\n",
       "      <td>H</td>\n",
       "      <td>141631.071665</td>\n",
       "    </tr>\n",
       "  </tbody>\n",
       "</table>\n",
       "</div>"
      ],
      "text/plain": [
       "     ADV_DATE  ADV_HOUR   LAT  LONG        NAME  PRESSURE REGION  SPEED TYPE  \\\n",
       "0  1997-12-03        18  -8.6   0.0  1997-12-02         0      S     25    D   \n",
       "1  1979-02-11        12 -16.4   0.0  1979-02-11         0      I   -999    D   \n",
       "2  1958-09-06         6  15.6 -55.7        FIFI         0      A     65    S   \n",
       "3  2004-09-02         0  22.2 -71.4     FRANCES       939      A    120    H   \n",
       "4  1988-09-27        18  30.9 -51.9      HELENE       979      A     77    H   \n",
       "\n",
       "             LEN  \n",
       "0   24916.158492  \n",
       "1  120480.811401  \n",
       "2  218179.688965  \n",
       "3  121127.729658  \n",
       "4  141631.071665  "
      ]
     },
     "execution_count": 9,
     "metadata": {},
     "output_type": "execute_result"
    }
   ],
   "source": [
    "data[\"LONG\"] = data[\"LONG_\"]\n",
    "data = data[[\"ADV_DATE\", \"ADV_HOUR\", \"LAT\", \"LONG\", \"NAME\", \"PRESSURE\", \"REGION\", \"SPEED\", \"TYPE\", \"LEN\"]]\n",
    "data.reset_index()\n",
    "data.head()"
   ]
  },
  {
   "cell_type": "code",
   "execution_count": 10,
   "metadata": {},
   "outputs": [
    {
     "data": {
      "text/plain": [
       "((191716, 10), (131142, 10))"
      ]
     },
     "execution_count": 10,
     "metadata": {},
     "output_type": "execute_result"
    }
   ],
   "source": [
    "data.shape, data.drop_duplicates().shape"
   ]
  },
  {
   "cell_type": "markdown",
   "metadata": {},
   "source": [
    "### Drop Duplicate Values"
   ]
  },
  {
   "cell_type": "code",
   "execution_count": 11,
   "metadata": {},
   "outputs": [
    {
     "data": {
      "text/plain": [
       "(131142, 10)"
      ]
     },
     "execution_count": 11,
     "metadata": {},
     "output_type": "execute_result"
    }
   ],
   "source": [
    "data = data.drop_duplicates()\n",
    "data.shape"
   ]
  },
  {
   "cell_type": "markdown",
   "metadata": {},
   "source": [
    "### Check unique Storm Types and Regions in the data"
   ]
  },
  {
   "cell_type": "code",
   "execution_count": 12,
   "metadata": {},
   "outputs": [
    {
     "data": {
      "text/plain": [
       "(0            D\n",
       " 2            S\n",
       " 3            H\n",
       " 61           U\n",
       " 183200    None\n",
       " Name: TYPE, dtype: object, 0     S\n",
       " 1     I\n",
       " 2     A\n",
       " 10    W\n",
       " 18    E\n",
       " Name: REGION, dtype: object)"
      ]
     },
     "execution_count": 12,
     "metadata": {},
     "output_type": "execute_result"
    }
   ],
   "source": [
    "data.TYPE.drop_duplicates(), data.REGION.drop_duplicates()"
   ]
  },
  {
   "cell_type": "markdown",
   "metadata": {},
   "source": [
    "### Check the Storm Names"
   ]
  },
  {
   "cell_type": "code",
   "execution_count": 13,
   "metadata": {
    "scrolled": true
   },
   "outputs": [
    {
     "data": {
      "text/html": [
       "<div>\n",
       "<style scoped>\n",
       "    .dataframe tbody tr th:only-of-type {\n",
       "        vertical-align: middle;\n",
       "    }\n",
       "\n",
       "    .dataframe tbody tr th {\n",
       "        vertical-align: top;\n",
       "    }\n",
       "\n",
       "    .dataframe thead th {\n",
       "        text-align: right;\n",
       "    }\n",
       "</style>\n",
       "<table border=\"1\" class=\"dataframe\">\n",
       "  <thead>\n",
       "    <tr style=\"text-align: right;\">\n",
       "      <th></th>\n",
       "      <th>NAME</th>\n",
       "    </tr>\n",
       "  </thead>\n",
       "  <tbody>\n",
       "    <tr>\n",
       "      <th>0</th>\n",
       "      <td>1997-12-02</td>\n",
       "    </tr>\n",
       "    <tr>\n",
       "      <th>1</th>\n",
       "      <td>1979-02-11</td>\n",
       "    </tr>\n",
       "    <tr>\n",
       "      <th>2</th>\n",
       "      <td>FIFI</td>\n",
       "    </tr>\n",
       "    <tr>\n",
       "      <th>3</th>\n",
       "      <td>FRANCES</td>\n",
       "    </tr>\n",
       "    <tr>\n",
       "      <th>4</th>\n",
       "      <td>HELENE</td>\n",
       "    </tr>\n",
       "  </tbody>\n",
       "</table>\n",
       "</div>"
      ],
      "text/plain": [
       "         NAME\n",
       "0  1997-12-02\n",
       "1  1979-02-11\n",
       "2        FIFI\n",
       "3     FRANCES\n",
       "4      HELENE"
      ]
     },
     "execution_count": 13,
     "metadata": {},
     "output_type": "execute_result"
    }
   ],
   "source": [
    "pd.DataFrame(data[\"NAME\"].drop_duplicates()).head()"
   ]
  },
  {
   "cell_type": "markdown",
   "metadata": {},
   "source": [
    "### Remove invalid storm names and their data"
   ]
  },
  {
   "cell_type": "code",
   "execution_count": 14,
   "metadata": {},
   "outputs": [],
   "source": [
    "## Assigning a constant value to storms which do not have names\n",
    "for i in range(10):\n",
    "    data.loc[data.NAME.str.contains(str(i), na = False, case = False), \"NAME\"] = \"None\"\n",
    "\n",
    "data = data[data.NAME != \"None\"]"
   ]
  },
  {
   "cell_type": "markdown",
   "metadata": {},
   "source": [
    "### Check for Null values in each of the columns"
   ]
  },
  {
   "cell_type": "code",
   "execution_count": 15,
   "metadata": {},
   "outputs": [
    {
     "data": {
      "text/plain": [
       "(3, 10)"
      ]
     },
     "execution_count": 15,
     "metadata": {},
     "output_type": "execute_result"
    }
   ],
   "source": [
    "data[data.TYPE.isna() == True].shape"
   ]
  },
  {
   "cell_type": "code",
   "execution_count": 16,
   "metadata": {},
   "outputs": [],
   "source": [
    "data = data[data.TYPE.isna() == False]\n",
    "data = data[(data.TYPE == 'D') | (data.TYPE == 'H') | (data.TYPE == 'S') | (data.TYPE == 'U')]"
   ]
  },
  {
   "cell_type": "code",
   "execution_count": 17,
   "metadata": {},
   "outputs": [
    {
     "data": {
      "text/plain": [
       "(84135, 10)"
      ]
     },
     "execution_count": 17,
     "metadata": {},
     "output_type": "execute_result"
    }
   ],
   "source": [
    "data.drop_duplicates().shape"
   ]
  },
  {
   "cell_type": "code",
   "execution_count": 18,
   "metadata": {},
   "outputs": [
    {
     "data": {
      "text/plain": [
       "(0, 0, 0)"
      ]
     },
     "execution_count": 18,
     "metadata": {},
     "output_type": "execute_result"
    }
   ],
   "source": [
    "len(data[data.REGION.isna() == True]), len(data[data.NAME.isna() == True]), len(data[data.SPEED.isna() == True])"
   ]
  },
  {
   "cell_type": "code",
   "execution_count": 19,
   "metadata": {},
   "outputs": [
    {
     "data": {
      "text/plain": [
       "(0, 0, 0, 0)"
      ]
     },
     "execution_count": 19,
     "metadata": {},
     "output_type": "execute_result"
    }
   ],
   "source": [
    "len(data[data.PRESSURE.isna() == True]), len(data[data.TYPE.isna() == True]), len(data[data.LAT.isna() == True]), len(data[data.LONG.isna() == True])"
   ]
  },
  {
   "cell_type": "markdown",
   "metadata": {},
   "source": [
    "### Split the Date column into Year, Month, and Day - Get relevant columns"
   ]
  },
  {
   "cell_type": "code",
   "execution_count": 20,
   "metadata": {},
   "outputs": [],
   "source": [
    "## Split date into days, months and years\n",
    "data['ADV_DATE'] = pd.to_datetime(data['ADV_DATE'])\n",
    "data['YEAR'] = data['ADV_DATE'].dt.year\n",
    "data['MONTH'] = data['ADV_DATE'].dt.month\n",
    "data['DAY'] = data['ADV_DATE'].dt.day\n",
    "\n",
    "data = data[['REGION', 'NAME', 'YEAR', 'MONTH', 'DAY', \"ADV_HOUR\", 'LAT', 'LONG', 'SPEED', 'PRESSURE', 'TYPE', \"LEN\"]]"
   ]
  },
  {
   "cell_type": "markdown",
   "metadata": {},
   "source": [
    "### Describe data to see each column statistics"
   ]
  },
  {
   "cell_type": "code",
   "execution_count": 21,
   "metadata": {
    "scrolled": false
   },
   "outputs": [
    {
     "data": {
      "text/html": [
       "<div>\n",
       "<style scoped>\n",
       "    .dataframe tbody tr th:only-of-type {\n",
       "        vertical-align: middle;\n",
       "    }\n",
       "\n",
       "    .dataframe tbody tr th {\n",
       "        vertical-align: top;\n",
       "    }\n",
       "\n",
       "    .dataframe thead th {\n",
       "        text-align: right;\n",
       "    }\n",
       "</style>\n",
       "<table border=\"1\" class=\"dataframe\">\n",
       "  <thead>\n",
       "    <tr style=\"text-align: right;\">\n",
       "      <th></th>\n",
       "      <th>YEAR</th>\n",
       "      <th>MONTH</th>\n",
       "      <th>DAY</th>\n",
       "      <th>ADV_HOUR</th>\n",
       "      <th>LAT</th>\n",
       "      <th>LONG</th>\n",
       "      <th>SPEED</th>\n",
       "      <th>PRESSURE</th>\n",
       "      <th>LEN</th>\n",
       "    </tr>\n",
       "  </thead>\n",
       "  <tbody>\n",
       "    <tr>\n",
       "      <th>count</th>\n",
       "      <td>84135.000000</td>\n",
       "      <td>84135.000000</td>\n",
       "      <td>84135.000000</td>\n",
       "      <td>84135.000000</td>\n",
       "      <td>84135.000000</td>\n",
       "      <td>84135.000000</td>\n",
       "      <td>84135.000000</td>\n",
       "      <td>84135.000000</td>\n",
       "      <td>8.413500e+04</td>\n",
       "    </tr>\n",
       "    <tr>\n",
       "      <th>mean</th>\n",
       "      <td>1986.769537</td>\n",
       "      <td>8.191371</td>\n",
       "      <td>16.023201</td>\n",
       "      <td>9.158032</td>\n",
       "      <td>18.933107</td>\n",
       "      <td>-5.751068</td>\n",
       "      <td>56.077554</td>\n",
       "      <td>244.403589</td>\n",
       "      <td>1.216699e+05</td>\n",
       "    </tr>\n",
       "    <tr>\n",
       "      <th>std</th>\n",
       "      <td>16.115950</td>\n",
       "      <td>2.175004</td>\n",
       "      <td>8.760373</td>\n",
       "      <td>6.728276</td>\n",
       "      <td>11.091421</td>\n",
       "      <td>52.511555</td>\n",
       "      <td>33.982892</td>\n",
       "      <td>429.644786</td>\n",
       "      <td>1.019186e+05</td>\n",
       "    </tr>\n",
       "    <tr>\n",
       "      <th>min</th>\n",
       "      <td>1956.000000</td>\n",
       "      <td>1.000000</td>\n",
       "      <td>1.000000</td>\n",
       "      <td>0.000000</td>\n",
       "      <td>-34.400000</td>\n",
       "      <td>-179.900000</td>\n",
       "      <td>0.000000</td>\n",
       "      <td>0.000000</td>\n",
       "      <td>0.000000e+00</td>\n",
       "    </tr>\n",
       "    <tr>\n",
       "      <th>25%</th>\n",
       "      <td>1973.000000</td>\n",
       "      <td>7.000000</td>\n",
       "      <td>8.000000</td>\n",
       "      <td>6.000000</td>\n",
       "      <td>13.600000</td>\n",
       "      <td>0.000000</td>\n",
       "      <td>35.000000</td>\n",
       "      <td>0.000000</td>\n",
       "      <td>6.448334e+04</td>\n",
       "    </tr>\n",
       "    <tr>\n",
       "      <th>50%</th>\n",
       "      <td>1988.000000</td>\n",
       "      <td>8.000000</td>\n",
       "      <td>16.000000</td>\n",
       "      <td>12.000000</td>\n",
       "      <td>18.200000</td>\n",
       "      <td>0.000000</td>\n",
       "      <td>50.000000</td>\n",
       "      <td>0.000000</td>\n",
       "      <td>1.069043e+05</td>\n",
       "    </tr>\n",
       "    <tr>\n",
       "      <th>75%</th>\n",
       "      <td>2000.000000</td>\n",
       "      <td>10.000000</td>\n",
       "      <td>23.000000</td>\n",
       "      <td>18.000000</td>\n",
       "      <td>24.700000</td>\n",
       "      <td>0.000000</td>\n",
       "      <td>75.000000</td>\n",
       "      <td>0.000000</td>\n",
       "      <td>1.551886e+05</td>\n",
       "    </tr>\n",
       "    <tr>\n",
       "      <th>max</th>\n",
       "      <td>2017.000000</td>\n",
       "      <td>12.000000</td>\n",
       "      <td>31.000000</td>\n",
       "      <td>60.000000</td>\n",
       "      <td>70.700000</td>\n",
       "      <td>179.900000</td>\n",
       "      <td>999.000000</td>\n",
       "      <td>9830.000000</td>\n",
       "      <td>3.062178e+06</td>\n",
       "    </tr>\n",
       "  </tbody>\n",
       "</table>\n",
       "</div>"
      ],
      "text/plain": [
       "               YEAR         MONTH           DAY      ADV_HOUR           LAT  \\\n",
       "count  84135.000000  84135.000000  84135.000000  84135.000000  84135.000000   \n",
       "mean    1986.769537      8.191371     16.023201      9.158032     18.933107   \n",
       "std       16.115950      2.175004      8.760373      6.728276     11.091421   \n",
       "min     1956.000000      1.000000      1.000000      0.000000    -34.400000   \n",
       "25%     1973.000000      7.000000      8.000000      6.000000     13.600000   \n",
       "50%     1988.000000      8.000000     16.000000     12.000000     18.200000   \n",
       "75%     2000.000000     10.000000     23.000000     18.000000     24.700000   \n",
       "max     2017.000000     12.000000     31.000000     60.000000     70.700000   \n",
       "\n",
       "               LONG         SPEED      PRESSURE           LEN  \n",
       "count  84135.000000  84135.000000  84135.000000  8.413500e+04  \n",
       "mean      -5.751068     56.077554    244.403589  1.216699e+05  \n",
       "std       52.511555     33.982892    429.644786  1.019186e+05  \n",
       "min     -179.900000      0.000000      0.000000  0.000000e+00  \n",
       "25%        0.000000     35.000000      0.000000  6.448334e+04  \n",
       "50%        0.000000     50.000000      0.000000  1.069043e+05  \n",
       "75%        0.000000     75.000000      0.000000  1.551886e+05  \n",
       "max      179.900000    999.000000   9830.000000  3.062178e+06  "
      ]
     },
     "execution_count": 21,
     "metadata": {},
     "output_type": "execute_result"
    }
   ],
   "source": [
    "data.describe()"
   ]
  },
  {
   "cell_type": "markdown",
   "metadata": {},
   "source": [
    "#### We see that the storm data ranges from the year 1956 to 2017"
   ]
  },
  {
   "cell_type": "code",
   "execution_count": 28,
   "metadata": {},
   "outputs": [
    {
     "data": {
      "text/plain": [
       "((63405, 12), (1, 12), (1, 12), (1, 12), (1, 12), (1, 12))"
      ]
     },
     "execution_count": 28,
     "metadata": {},
     "output_type": "execute_result"
    }
   ],
   "source": [
    "data[data.PRESSURE == 0].shape, data[data.PRESSURE == 98].shape, data[data.PRESSURE == 500].shape, data[data.PRESSURE == 1975].shape, data[data.PRESSURE == 9440].shape, data[data.PRESSURE == 9830].shape"
   ]
  },
  {
   "cell_type": "markdown",
   "metadata": {},
   "source": [
    "### Assign hour 60 as hour 0"
   ]
  },
  {
   "cell_type": "code",
   "execution_count": 23,
   "metadata": {},
   "outputs": [],
   "source": [
    "data.loc[data.ADV_HOUR == 60, \"ADV_HOUR\"] = 0"
   ]
  },
  {
   "cell_type": "markdown",
   "metadata": {},
   "source": [
    "### Basic Histogram of the data"
   ]
  },
  {
   "cell_type": "code",
   "execution_count": 24,
   "metadata": {
    "scrolled": false
   },
   "outputs": [
    {
     "data": {
      "image/png": "[encoded data removed]",
      "text/plain": [
       "<Figure size 864x576 with 9 Axes>"
      ]
     },
     "metadata": {
      "needs_background": "light"
     },
     "output_type": "display_data"
    }
   ],
   "source": [
    "data.hist(figsize=(12,8));"
   ]
  },
  {
   "cell_type": "markdown",
   "metadata": {},
   "source": [
    "### Plot of Unique Storms per Year"
   ]
  },
  {
   "cell_type": "code",
   "execution_count": 29,
   "metadata": {
    "scrolled": false
   },
   "outputs": [
    {
     "data": {
      "image/png": "[encoded data removed]",
      "text/plain": [
       "<Figure size 864x432 with 1 Axes>"
      ]
     },
     "metadata": {
      "needs_background": "light"
     },
     "output_type": "display_data"
    }
   ],
   "source": [
    "df = data[['YEAR', 'NAME']].drop_duplicates()\n",
    "df = df.groupby(['YEAR']).count()['NAME'].reset_index()\n",
    "df = df.rename(index=str, columns={\"NAME\": \"UNIQUE_STORMS_CNT\"})\n",
    "\n",
    "sns.relplot(x=\"YEAR\", y=\"UNIQUE_STORMS_CNT\", data=df, kind = \"line\", height=6, aspect=2);"
   ]
  },
  {
   "cell_type": "markdown",
   "metadata": {},
   "source": [
    "#### We can see from the above plot that the rate of increase number of unique storms through the years 2000 to 2010 and then reduce to the same rate as between the years 1950 to 1990. But, we cannot assume that the number of storms increased every year, we need to look at other factors aswell, correlation of other variables as well. "
   ]
  },
  {
   "cell_type": "markdown",
   "metadata": {},
   "source": [
    "### Plot of unique storms per region"
   ]
  },
  {
   "cell_type": "code",
   "execution_count": 30,
   "metadata": {
    "scrolled": false
   },
   "outputs": [
    {
     "data": {
      "image/png": "[encoded data removed]",
      "text/plain": [
       "<Figure size 576x360 with 1 Axes>"
      ]
     },
     "metadata": {
      "needs_background": "light"
     },
     "output_type": "display_data"
    }
   ],
   "source": [
    "df2 = data[['REGION', 'NAME']].drop_duplicates()\n",
    "df2 = df2.groupby(['REGION']).count()['NAME'].reset_index()\n",
    "df2 = df2.rename(index=str, columns={\"NAME\": \"UNIQUE_STORMS_CNT\"})\n",
    "df2.set_index('REGION', inplace = True)\n",
    "df2.plot(kind=\"barh\", figsize=(8, 5));\n",
    "plt.ylabel(\"REGION\");\n",
    "plt.xlabel(\"Number of Unique Storms\");"
   ]
  },
  {
   "cell_type": "markdown",
   "metadata": {},
   "source": [
    "#### We can see that the number of unique storms in the region \"W\" are much higher than the other regions, and the reigon \"S\" has the least number of unique storms, while the rest of the regions had almost equal number of storms."
   ]
  },
  {
   "cell_type": "markdown",
   "metadata": {},
   "source": [
    "### Plot of distribution of Unique Storms over the years for every region"
   ]
  },
  {
   "cell_type": "code",
   "execution_count": 31,
   "metadata": {
    "scrolled": false
   },
   "outputs": [
    {
     "data": {
      "image/png": "[encoded data removed]",
      "text/plain": [
       "<Figure size 795x1800 with 5 Axes>"
      ]
     },
     "metadata": {
      "needs_background": "light"
     },
     "output_type": "display_data"
    }
   ],
   "source": [
    "df = data[['YEAR', 'REGION', 'NAME']].drop_duplicates()\n",
    "df = df.groupby(['YEAR', 'REGION']).count()['NAME'].reset_index()\n",
    "df = df.rename(index=str, columns={\"NAME\": \"UNIQUE_STORMS_CNT\"})\n",
    "\n",
    "sns.relplot(x=\"YEAR\", y=\"UNIQUE_STORMS_CNT\", hue=\"REGION\", row=\"REGION\", data=df, height=5, aspect=2, palette ='colorblind');"
   ]
  },
  {
   "cell_type": "markdown",
   "metadata": {},
   "source": [
    "#### From the above plot we can see that region \"A\" had 5 to 15 unique storm each year from 1950 to 2010."
   ]
  },
  {
   "cell_type": "markdown",
   "metadata": {},
   "source": [
    "#### From the above plot we can see that region \"W\" had higest number of storms ranging from 15 to 40 each year from 1950 to 2017."
   ]
  },
  {
   "cell_type": "markdown",
   "metadata": {},
   "source": [
    "#### And, for region \"E\" we see a steady increase in number of storms each year from 1950 to 2010 and the storm count ranged from 3 to 25."
   ]
  },
  {
   "cell_type": "markdown",
   "metadata": {},
   "source": [
    "#### For regions \"I\" and \"S\" we see that the number of storms have been recorded for the years 2010 and 2017 only and that the region \"I\" had more storms than for region \"S\"."
   ]
  },
  {
   "cell_type": "markdown",
   "metadata": {},
   "source": [
    "### Histogram of region wise storms per year"
   ]
  },
  {
   "cell_type": "code",
   "execution_count": 36,
   "metadata": {
    "scrolled": false
   },
   "outputs": [
    {
     "data": {
      "image/png": "[encoded data removed]",
      "text/plain": [
       "<Figure size 1199x576 with 1 Axes>"
      ]
     },
     "metadata": {
      "needs_background": "light"
     },
     "output_type": "display_data"
    }
   ],
   "source": [
    "REGION = df.REGION.drop_duplicates()\n",
    "g = sns.FacetGrid(df, hue=\"REGION\", hue_order=REGION, height=8, aspect=2, palette='colorblind'); \n",
    "g.map(plt.bar, 'YEAR', 'UNIQUE_STORMS_CNT').add_legend();"
   ]
  },
  {
   "cell_type": "markdown",
   "metadata": {},
   "source": [
    "#### On checking the histogram of unique storm count for the five regions, we find that the storms in the region W, were higher than the storms in region E during the years 1950 to 1965 and decreased during the years 1965 to 1994. It says that the regions W and E had higher number of storms during 1950 and 2000."
   ]
  },
  {
   "cell_type": "markdown",
   "metadata": {},
   "source": [
    "#### We can find a similar observatin between regions I and S, the number of storms in region I are greater than the ones in region S, and that the storms could be observed begtween 2001 and 2017."
   ]
  },
  {
   "cell_type": "code",
   "execution_count": 34,
   "metadata": {},
   "outputs": [
    {
     "data": {
      "text/plain": [
       "(0,)"
      ]
     },
     "execution_count": 34,
     "metadata": {},
     "output_type": "execute_result"
    }
   ],
   "source": [
    "data.TYPE[data.TYPE == ' '].shape"
   ]
  },
  {
   "cell_type": "markdown",
   "metadata": {},
   "source": [
    "### Plot of distribution of unique storms over the years for every region for every type of storm"
   ]
  },
  {
   "cell_type": "code",
   "execution_count": null,
   "metadata": {},
   "outputs": [],
   "source": [
    "df = data[['YEAR', 'REGION', 'NAME', 'TYPE']].drop_duplicates()\n",
    "df = df.groupby(['YEAR', 'REGION', 'TYPE']).count()['NAME'].reset_index()\n",
    "df = df.rename(index=str, columns={\"NAME\": \"UNIQUE_STORMS_CNT\"})\n",
    "\n",
    "grid = sns.FacetGrid(df, col=\"TYPE\", row=\"REGION\", height=3, aspect = 1.5);\n",
    "grid.map(plt.scatter, \"YEAR\", \"UNIQUE_STORMS_CNT\" ).add_legend();"
   ]
  },
  {
   "cell_type": "markdown",
   "metadata": {},
   "source": [
    "### Plot of relation between Pressure and Speed"
   ]
  },
  {
   "cell_type": "code",
   "execution_count": null,
   "metadata": {},
   "outputs": [],
   "source": [
    "df = data[['SPEED', 'REGION', 'TYPE', 'PRESSURE']].drop_duplicates()\n",
    "df = df[(df.PRESSURE != 0) & (df.PRESSURE > 800) & (df.PRESSURE < 1800) ]\n",
    "sns.lmplot(x=\"SPEED\", y=\"PRESSURE\", data=df, x_jitter=.05, order=2, height=4, aspect=1.6); "
   ]
  },
  {
   "cell_type": "markdown",
   "metadata": {},
   "source": [
    "### Linear model fit of speed and pressure categories along with their individual distribution"
   ]
  },
  {
   "cell_type": "code",
   "execution_count": null,
   "metadata": {},
   "outputs": [],
   "source": [
    "sns.jointplot(x=\"SPEED\", y=\"PRESSURE\", data=df, kind=\"reg\", height=7, ratio=3);"
   ]
  },
  {
   "cell_type": "markdown",
   "metadata": {},
   "source": [
    "### Speed and Pressure distribution for each region and type of storms"
   ]
  },
  {
   "cell_type": "code",
   "execution_count": null,
   "metadata": {},
   "outputs": [],
   "source": [
    "TYPE = df.TYPE.drop_duplicates()\n",
    "fg = sns.FacetGrid(data=df, row=\"REGION\", hue='TYPE', hue_order=TYPE, height=3.2, aspect=3, legend_out = True, palette = 'colorblind');\n",
    "kws = dict(s=50, linewidth=.5, edgecolor=\"w\");\n",
    "fg.map(plt.scatter, 'SPEED', 'PRESSURE', **kws).add_legend();"
   ]
  },
  {
   "cell_type": "markdown",
   "metadata": {},
   "source": [
    "### Draw the storms distributions on a map"
   ]
  },
  {
   "cell_type": "code",
   "execution_count": null,
   "metadata": {},
   "outputs": [],
   "source": [
    "import folium\n",
    "from folium import plugins\n",
    "from folium.plugins import HeatMap"
   ]
  },
  {
   "cell_type": "markdown",
   "metadata": {},
   "source": [
    "### Get the locations grouped by Latitude and Longitude"
   ]
  },
  {
   "cell_type": "code",
   "execution_count": null,
   "metadata": {},
   "outputs": [],
   "source": [
    "locations = data.groupby([\"LAT\", \"LONG\"]).first().reset_index()\n",
    "locations.shape"
   ]
  },
  {
   "cell_type": "code",
   "execution_count": null,
   "metadata": {},
   "outputs": [],
   "source": [
    "locations = locations.loc[:, [\"TYPE\", \"REGION\", \"LAT\", \"LONG\", \"NAME\", \"YEAR\"]].drop_duplicates()\n",
    "locations = locations.sort_values(by=['LAT', 'LONG', 'NAME'])\n",
    "locations.head(), locations.shape"
   ]
  },
  {
   "cell_type": "code",
   "execution_count": null,
   "metadata": {},
   "outputs": [],
   "source": [
    "data.TYPE.drop_duplicates().values.tolist()"
   ]
  },
  {
   "cell_type": "markdown",
   "metadata": {},
   "source": [
    "### Get unique region codes into a variable"
   ]
  },
  {
   "cell_type": "code",
   "execution_count": null,
   "metadata": {},
   "outputs": [],
   "source": [
    "REGION = data.REGION.drop_duplicates().values.tolist()\n",
    "REGION"
   ]
  },
  {
   "cell_type": "markdown",
   "metadata": {},
   "source": [
    "### Assign color to each type of storm"
   ]
  },
  {
   "cell_type": "code",
   "execution_count": null,
   "metadata": {},
   "outputs": [],
   "source": [
    "TYPE_COLOR = {\"S\": 'red', \"H\": 'blue', \"D\": 'yellow', \"U\": 'white'}"
   ]
  },
  {
   "cell_type": "markdown",
   "metadata": {},
   "source": [
    "### Function to show scatter plot of storm distributions over a region"
   ]
  },
  {
   "cell_type": "code",
   "execution_count": null,
   "metadata": {},
   "outputs": [],
   "source": [
    "def scatter_plot(locations, region, TYPE_COLOR):\n",
    "\n",
    "    feature_S = folium.FeatureGroup(name = 'S')\n",
    "    feature_H = folium.FeatureGroup(name = 'H')\n",
    "    feature_D = folium.FeatureGroup(name = 'D')\n",
    "    feature_U = folium.FeatureGroup(name = 'U')\n",
    "\n",
    "    features = {\"S\": feature_S, \"H\": feature_H, \"D\": feature_D, \"U\": feature_U}\n",
    "\n",
    "    subset = locations[locations[\"REGION\"] == region].drop_duplicates()\n",
    "    subset = subset.sample(n = 500)\n",
    "    subset = subset.reset_index(drop=True)\n",
    "\n",
    "    folium_map = folium.Map(location=[subset[\"LAT\"][0], subset[\"LONG\"][0]],\n",
    "                            zoom_start=2,\n",
    "                            tiles=\"CartoDB dark_matter\")\n",
    "\n",
    "    for index, row in subset.iterrows():\n",
    "        radius = subset[subset.NAME == row['NAME']].shape[0]/10\n",
    "        color = TYPE_COLOR[row[\"TYPE\"]]\n",
    "        folium.CircleMarker(location=(row[\"LAT\"],\n",
    "                                      row[\"LONG\"]),\n",
    "                            radius= 1, # radius,\n",
    "                            color=color,\n",
    "                            fill=True).add_to(features[row[\"TYPE\"]])\n",
    "\n",
    "    folium_map.add_child(feature_S)\n",
    "    folium_map.add_child(feature_H)\n",
    "    folium_map.add_child(feature_D)\n",
    "    folium_map.add_child(feature_U)\n",
    "\n",
    "    folium_map.add_child(folium.map.LayerControl())\n",
    "\n",
    "    return folium_map"
   ]
  },
  {
   "cell_type": "code",
   "execution_count": null,
   "metadata": {},
   "outputs": [],
   "source": [
    "def scatter_basin_plot(locations, region, TYPE_COLOR, TYPE):\n",
    "    \n",
    "\n",
    "    feature_S = folium.FeatureGroup(name = 'S')\n",
    "    feature_H = folium.FeatureGroup(name = 'H')\n",
    "    feature_D = folium.FeatureGroup(name = 'D')\n",
    "    feature_U = folium.FeatureGroup(name = 'U')\n",
    "\n",
    "    features = {\"S\": feature_S, \"H\": feature_H, \"D\": feature_D, \"U\": feature_U}\n",
    "\n",
    "    subset = locations[(locations[\"REGION\"] == region) & (locations[\"TYPE\"] == TYPE)].drop_duplicates()\n",
    "    subset = subset.sample(n = 500)\n",
    "    subset = subset.reset_index(drop=True)\n",
    "\n",
    "    folium_map = folium.Map(location=[subset[\"LAT\"][0], subset[\"LONG\"][0]],\n",
    "                            zoom_start=2,\n",
    "                            tiles=\"CartoDB dark_matter\")\n",
    "\n",
    "    for index, row in subset.iterrows():\n",
    "        radius = subset[subset.NAME == row['NAME']].shape[0]/10\n",
    "        color = TYPE_COLOR[row[\"TYPE\"]]\n",
    "        folium.CircleMarker(location=(row[\"LAT\"],\n",
    "                                      row[\"LONG\"]),\n",
    "                            radius= 1, # radius,\n",
    "                            color=color,\n",
    "                            fill=True).add_to(features[row[\"TYPE\"]])\n",
    "\n",
    "    folium_map.add_child(feature_S)\n",
    "    folium_map.add_child(feature_H)\n",
    "    folium_map.add_child(feature_D)\n",
    "    folium_map.add_child(feature_U)\n",
    "\n",
    "    folium_map.add_child(folium.map.LayerControl())\n",
    "\n",
    "    return folium_map"
   ]
  },
  {
   "cell_type": "markdown",
   "metadata": {},
   "source": [
    "### Function to Heat Map for different regions"
   ]
  },
  {
   "cell_type": "code",
   "execution_count": null,
   "metadata": {},
   "outputs": [],
   "source": [
    "def heat_map(locations, region):\n",
    "    subset = locations[locations[\"REGION\"] == region].drop_duplicates()\n",
    "    subset = subset.sample(n = 500)\n",
    "    subset = subset.reset_index(drop=True)\n",
    "\n",
    "    fmap = folium.Map(location=[subset[\"LAT\"][0], subset[\"LONG\"][0]],\n",
    "                            zoom_start=2)\n",
    "\n",
    "    subset['LAT'] = subset['LAT'].astype(float)\n",
    "    subset['LONG'] = subset['LONG'].astype(float)\n",
    "\n",
    "    df = subset\n",
    "    df = df[['LAT', 'LONG']]\n",
    "    df = df.dropna(axis=0, subset=['LAT','LONG'])\n",
    "\n",
    "    data = [[row['LAT'],row['LONG']] for index, row in df.iterrows()]\n",
    "\n",
    "    HeatMap(data).add_to(fmap)\n",
    "\n",
    "    # Display the map\n",
    "    return fmap"
   ]
  },
  {
   "cell_type": "markdown",
   "metadata": {},
   "source": [
    "### Scatter Plot for storm types for the region \"A\", each type can be selected from the drop down to the right"
   ]
  },
  {
   "cell_type": "code",
   "execution_count": null,
   "metadata": {},
   "outputs": [],
   "source": [
    "scatter_plot(locations, 'A', TYPE_COLOR)"
   ]
  },
  {
   "cell_type": "markdown",
   "metadata": {},
   "source": [
    "### HEAT MAP for storm types for the region \"A\""
   ]
  },
  {
   "cell_type": "code",
   "execution_count": null,
   "metadata": {},
   "outputs": [],
   "source": [
    "heat_map(locations, 'A')"
   ]
  },
  {
   "cell_type": "markdown",
   "metadata": {},
   "source": [
    "### Scatter Plot for storm types for the region \"W\", each type can be selected from the drop down to the right"
   ]
  },
  {
   "cell_type": "code",
   "execution_count": null,
   "metadata": {
    "scrolled": false
   },
   "outputs": [],
   "source": [
    "scatter_plot(locations, 'W', TYPE_COLOR)"
   ]
  },
  {
   "cell_type": "markdown",
   "metadata": {},
   "source": [
    "### HEAT MAP for storm types for the region \"W\""
   ]
  },
  {
   "cell_type": "code",
   "execution_count": null,
   "metadata": {},
   "outputs": [],
   "source": [
    "heat_map(locations, 'W')"
   ]
  },
  {
   "cell_type": "markdown",
   "metadata": {},
   "source": [
    "### Scatter Plot for storm types for the region \"E\", each type can be selected from the drop down to the right"
   ]
  },
  {
   "cell_type": "code",
   "execution_count": null,
   "metadata": {},
   "outputs": [],
   "source": [
    "scatter_plot(locations, 'E', TYPE_COLOR)"
   ]
  },
  {
   "cell_type": "markdown",
   "metadata": {},
   "source": [
    "### HEAT MAP for storm types for the region \"E\""
   ]
  },
  {
   "cell_type": "code",
   "execution_count": null,
   "metadata": {},
   "outputs": [],
   "source": [
    "heat_map(locations, 'E')"
   ]
  },
  {
   "cell_type": "markdown",
   "metadata": {},
   "source": [
    "### Scatter Plot for storm types for the region \"I\", each type can be selected from the drop down to the right"
   ]
  },
  {
   "cell_type": "code",
   "execution_count": null,
   "metadata": {
    "scrolled": false
   },
   "outputs": [],
   "source": [
    "scatter_plot(locations, 'I', TYPE_COLOR)"
   ]
  },
  {
   "cell_type": "markdown",
   "metadata": {},
   "source": [
    "### Heat Map for storm types for the region \"I\""
   ]
  },
  {
   "cell_type": "code",
   "execution_count": null,
   "metadata": {},
   "outputs": [],
   "source": [
    "heat_map(locations, 'I')"
   ]
  },
  {
   "cell_type": "markdown",
   "metadata": {},
   "source": [
    "### Scatter Plot for storm types for the region \"S\", each type can be selected from the drop down to the right"
   ]
  },
  {
   "cell_type": "code",
   "execution_count": null,
   "metadata": {},
   "outputs": [],
   "source": [
    "scatter_plot(locations, 'S', TYPE_COLOR)"
   ]
  },
  {
   "cell_type": "markdown",
   "metadata": {},
   "source": [
    "### HEAT MAP for storm types for the region \"S\""
   ]
  },
  {
   "cell_type": "code",
   "execution_count": null,
   "metadata": {},
   "outputs": [],
   "source": [
    "heat_map(locations, 'S')"
   ]
  },
  {
   "cell_type": "markdown",
   "metadata": {},
   "source": [
    "### Scatter Plot for Region \"A\" and Storm TYPE \"S\""
   ]
  },
  {
   "cell_type": "code",
   "execution_count": null,
   "metadata": {},
   "outputs": [],
   "source": [
    "scatter_basin_plot(locations, \"A\", TYPE_COLOR, \"S\")"
   ]
  },
  {
   "cell_type": "code",
   "execution_count": null,
   "metadata": {},
   "outputs": [],
   "source": []
  }
 ],
 "metadata": {
  "kernelspec": {
   "display_name": "Python 3",
   "language": "python",
   "name": "python3"
  },
  "language_info": {
   "codemirror_mode": {
    "name": "ipython",
    "version": 3
   },
   "file_extension": ".py",
   "mimetype": "text/x-python",
   "name": "python",
   "nbconvert_exporter": "python",
   "pygments_lexer": "ipython3",
   "version": "3.6.6"
  }
 },
 "nbformat": 4,
 "nbformat_minor": 2
}
