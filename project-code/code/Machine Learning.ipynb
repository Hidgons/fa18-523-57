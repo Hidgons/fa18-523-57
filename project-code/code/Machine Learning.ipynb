{
 "cells": [
  {
   "cell_type": "markdown",
   "metadata": {},
   "source": [
    "# Storm Data Machine Learning\n",
    "## Big Data Applications\n",
    "### Class: E534 | Group: fa18-523-57, fa18-523-58\n",
    "### Fall 2018\n",
    "### Indiana University"
   ]
  },
  {
   "cell_type": "code",
   "execution_count": 1,
   "metadata": {},
   "outputs": [],
   "source": [
    "import warnings\n",
    "warnings.filterwarnings(\"ignore\")"
   ]
  },
  {
   "cell_type": "code",
   "execution_count": 2,
   "metadata": {},
   "outputs": [],
   "source": [
    "import pymongo\n",
    "import pandas as pd\n",
    "import numpy as np"
   ]
  },
  {
   "cell_type": "markdown",
   "metadata": {},
   "source": [
    "### Importing Data stored in Azure Cosmos DB"
   ]
  },
  {
   "cell_type": "code",
   "execution_count": 3,
   "metadata": {},
   "outputs": [],
   "source": [
    "# Reading uri path from a file\n",
    "config_file = open('cosmos_db.config','r')\n",
    "uri_path = config_file.read()"
   ]
  },
  {
   "cell_type": "code",
   "execution_count": 4,
   "metadata": {},
   "outputs": [],
   "source": [
    "client = pymongo.MongoClient(uri_path)"
   ]
  },
  {
   "cell_type": "code",
   "execution_count": 5,
   "metadata": {},
   "outputs": [],
   "source": [
    "# Database Name and Collection Name\n",
    "db = client['test']\n",
    "collection = db['storm_data']"
   ]
  },
  {
   "cell_type": "code",
   "execution_count": 6,
   "metadata": {},
   "outputs": [
    {
     "name": "stdout",
     "output_type": "stream",
     "text": [
      "Completed in  74.09  seconds\n"
     ]
    }
   ],
   "source": [
    "# Reading data from Cosmos DB as a Pandas Dataframe\n",
    "from time import time\n",
    "t0 = time()\n",
    "mongo_data = pd.DataFrame(list(collection.find()))\n",
    "print('Completed in ', np.round(time() - t0,3) , ' seconds')"
   ]
  },
  {
   "cell_type": "code",
   "execution_count": 7,
   "metadata": {},
   "outputs": [
    {
     "name": "stdout",
     "output_type": "stream",
     "text": [
      "The number of documents in the collection is:  173263\n"
     ]
    }
   ],
   "source": [
    "print('The number of documents in the collection is: ', len(mongo_data))"
   ]
  },
  {
   "cell_type": "code",
   "execution_count": 8,
   "metadata": {},
   "outputs": [
    {
     "data": {
      "text/plain": [
       "(173263, 13)"
      ]
     },
     "execution_count": 8,
     "metadata": {},
     "output_type": "execute_result"
    }
   ],
   "source": [
    "mongo_data.shape \n",
    "# 173263 Rows, 13 Features/Columns"
   ]
  },
  {
   "cell_type": "code",
   "execution_count": 9,
   "metadata": {},
   "outputs": [
    {
     "data": {
      "text/html": [
       "<div>\n",
       "<style scoped>\n",
       "    .dataframe tbody tr th:only-of-type {\n",
       "        vertical-align: middle;\n",
       "    }\n",
       "\n",
       "    .dataframe tbody tr th {\n",
       "        vertical-align: top;\n",
       "    }\n",
       "\n",
       "    .dataframe thead th {\n",
       "        text-align: right;\n",
       "    }\n",
       "</style>\n",
       "<table border=\"1\" class=\"dataframe\">\n",
       "  <thead>\n",
       "    <tr style=\"text-align: right;\">\n",
       "      <th></th>\n",
       "      <th>ADVISORY</th>\n",
       "      <th>ADV_DATE</th>\n",
       "      <th>ADV_HOUR</th>\n",
       "      <th>LAT</th>\n",
       "      <th>LEN</th>\n",
       "      <th>LONG_</th>\n",
       "      <th>NAME</th>\n",
       "      <th>PRESSURE</th>\n",
       "      <th>REGION</th>\n",
       "      <th>SPEED</th>\n",
       "      <th>STORM_NO</th>\n",
       "      <th>TYPE</th>\n",
       "      <th>_id</th>\n",
       "    </tr>\n",
       "  </thead>\n",
       "  <tbody>\n",
       "    <tr>\n",
       "      <th>0</th>\n",
       "      <td>0</td>\n",
       "      <td>02/11/1979</td>\n",
       "      <td>12</td>\n",
       "      <td>-16.4</td>\n",
       "      <td>120480.811401</td>\n",
       "      <td>0.0</td>\n",
       "      <td>1979-02-11</td>\n",
       "      <td>0</td>\n",
       "      <td>I</td>\n",
       "      <td>-999</td>\n",
       "      <td>0</td>\n",
       "      <td>D</td>\n",
       "      <td>5bf4b61f44925f2a18e00ba8</td>\n",
       "    </tr>\n",
       "    <tr>\n",
       "      <th>1</th>\n",
       "      <td>0</td>\n",
       "      <td>10/02/1992</td>\n",
       "      <td>0</td>\n",
       "      <td>38.1</td>\n",
       "      <td>36249.206243</td>\n",
       "      <td>-21.8</td>\n",
       "      <td>BONNIE</td>\n",
       "      <td>1012</td>\n",
       "      <td>A</td>\n",
       "      <td>25</td>\n",
       "      <td>3</td>\n",
       "      <td>D</td>\n",
       "      <td>5bf4b61f44925f2a18e00ba9</td>\n",
       "    </tr>\n",
       "    <tr>\n",
       "      <th>2</th>\n",
       "      <td>0</td>\n",
       "      <td>06/21/1993</td>\n",
       "      <td>6</td>\n",
       "      <td>27.1</td>\n",
       "      <td>22263.906700</td>\n",
       "      <td>-98.3</td>\n",
       "      <td>ARLENE</td>\n",
       "      <td>1006</td>\n",
       "      <td>A</td>\n",
       "      <td>25</td>\n",
       "      <td>1</td>\n",
       "      <td>D</td>\n",
       "      <td>5bf4b61f44925f2a18e00baa</td>\n",
       "    </tr>\n",
       "    <tr>\n",
       "      <th>3</th>\n",
       "      <td>0</td>\n",
       "      <td>01/20/1975</td>\n",
       "      <td>6</td>\n",
       "      <td>-23.4</td>\n",
       "      <td>89055.626500</td>\n",
       "      <td>0.0</td>\n",
       "      <td>1975-01-19</td>\n",
       "      <td>0</td>\n",
       "      <td>S</td>\n",
       "      <td>-999</td>\n",
       "      <td>0</td>\n",
       "      <td>D</td>\n",
       "      <td>5bf4b61f44925f2a18e00bab</td>\n",
       "    </tr>\n",
       "    <tr>\n",
       "      <th>4</th>\n",
       "      <td>0</td>\n",
       "      <td>09/27/1988</td>\n",
       "      <td>18</td>\n",
       "      <td>30.9</td>\n",
       "      <td>141631.071665</td>\n",
       "      <td>-51.9</td>\n",
       "      <td>HELENE</td>\n",
       "      <td>979</td>\n",
       "      <td>A</td>\n",
       "      <td>77</td>\n",
       "      <td>9</td>\n",
       "      <td>H</td>\n",
       "      <td>5bf4b61f44925f2a18e00bac</td>\n",
       "    </tr>\n",
       "  </tbody>\n",
       "</table>\n",
       "</div>"
      ],
      "text/plain": [
       "   ADVISORY    ADV_DATE  ADV_HOUR   LAT            LEN  LONG_        NAME  \\\n",
       "0         0  02/11/1979        12 -16.4  120480.811401    0.0  1979-02-11   \n",
       "1         0  10/02/1992         0  38.1   36249.206243  -21.8      BONNIE   \n",
       "2         0  06/21/1993         6  27.1   22263.906700  -98.3      ARLENE   \n",
       "3         0  01/20/1975         6 -23.4   89055.626500    0.0  1975-01-19   \n",
       "4         0  09/27/1988        18  30.9  141631.071665  -51.9      HELENE   \n",
       "\n",
       "   PRESSURE REGION  SPEED  STORM_NO TYPE                       _id  \n",
       "0         0      I   -999         0    D  5bf4b61f44925f2a18e00ba8  \n",
       "1      1012      A     25         3    D  5bf4b61f44925f2a18e00ba9  \n",
       "2      1006      A     25         1    D  5bf4b61f44925f2a18e00baa  \n",
       "3         0      S   -999         0    D  5bf4b61f44925f2a18e00bab  \n",
       "4       979      A     77         9    H  5bf4b61f44925f2a18e00bac  "
      ]
     },
     "execution_count": 9,
     "metadata": {},
     "output_type": "execute_result"
    }
   ],
   "source": [
    "mongo_data.head()"
   ]
  },
  {
   "cell_type": "markdown",
   "metadata": {},
   "source": [
    "### Pre-processing Data"
   ]
  },
  {
   "cell_type": "code",
   "execution_count": 10,
   "metadata": {},
   "outputs": [
    {
     "data": {
      "text/plain": [
       "(173263, 13)"
      ]
     },
     "execution_count": 10,
     "metadata": {},
     "output_type": "execute_result"
    }
   ],
   "source": [
    "mongo_data = mongo_data.drop_duplicates()\n",
    "mongo_data.shape"
   ]
  },
  {
   "cell_type": "code",
   "execution_count": 11,
   "metadata": {},
   "outputs": [],
   "source": [
    "# Dropping columns/features not needed\n",
    "data = mongo_data.drop(columns=['_id','ADV_DATE','ADV_HOUR','NAME','LEN','LAT','LONG_'])"
   ]
  },
  {
   "cell_type": "code",
   "execution_count": 12,
   "metadata": {},
   "outputs": [
    {
     "data": {
      "text/plain": [
       "(173263, 6)"
      ]
     },
     "execution_count": 12,
     "metadata": {},
     "output_type": "execute_result"
    }
   ],
   "source": [
    "data.shape "
   ]
  },
  {
   "cell_type": "code",
   "execution_count": 13,
   "metadata": {},
   "outputs": [
    {
     "data": {
      "text/plain": [
       "ADVISORY    173263\n",
       "PRESSURE    173263\n",
       "REGION      173263\n",
       "SPEED       173263\n",
       "STORM_NO    173263\n",
       "TYPE        173263\n",
       "dtype: int64"
      ]
     },
     "execution_count": 13,
     "metadata": {},
     "output_type": "execute_result"
    }
   ],
   "source": [
    "data.count()"
   ]
  },
  {
   "cell_type": "code",
   "execution_count": 14,
   "metadata": {},
   "outputs": [
    {
     "data": {
      "text/plain": [
       "ADVISORY    0\n",
       "PRESSURE    0\n",
       "REGION      0\n",
       "SPEED       0\n",
       "STORM_NO    0\n",
       "TYPE        0\n",
       "dtype: int64"
      ]
     },
     "execution_count": 14,
     "metadata": {},
     "output_type": "execute_result"
    }
   ],
   "source": [
    "data.isna().sum()"
   ]
  },
  {
   "cell_type": "code",
   "execution_count": 15,
   "metadata": {},
   "outputs": [
    {
     "data": {
      "text/plain": [
       "ADVISORY    0\n",
       "PRESSURE    0\n",
       "REGION      0\n",
       "SPEED       0\n",
       "STORM_NO    0\n",
       "TYPE        0\n",
       "dtype: int64"
      ]
     },
     "execution_count": 15,
     "metadata": {},
     "output_type": "execute_result"
    }
   ],
   "source": [
    "data.isnull().sum()"
   ]
  },
  {
   "cell_type": "code",
   "execution_count": 16,
   "metadata": {},
   "outputs": [
    {
     "name": "stdout",
     "output_type": "stream",
     "text": [
      "<class 'pandas.core.frame.DataFrame'>\n",
      "Int64Index: 173263 entries, 0 to 173262\n",
      "Data columns (total 6 columns):\n",
      "ADVISORY    173263 non-null int64\n",
      "PRESSURE    173263 non-null int64\n",
      "REGION      173263 non-null object\n",
      "SPEED       173263 non-null int64\n",
      "STORM_NO    173263 non-null int64\n",
      "TYPE        173263 non-null object\n",
      "dtypes: int64(4), object(2)\n",
      "memory usage: 9.3+ MB\n"
     ]
    }
   ],
   "source": [
    "data.info()"
   ]
  },
  {
   "cell_type": "code",
   "execution_count": 17,
   "metadata": {},
   "outputs": [
    {
     "data": {
      "text/plain": [
       "0         D\n",
       "4         H\n",
       "6         S\n",
       "19        U\n",
       "164795     \n",
       "Name: TYPE, dtype: object"
      ]
     },
     "execution_count": 17,
     "metadata": {},
     "output_type": "execute_result"
    }
   ],
   "source": [
    "data.TYPE.drop_duplicates()"
   ]
  },
  {
   "cell_type": "code",
   "execution_count": 18,
   "metadata": {},
   "outputs": [
    {
     "data": {
      "text/plain": [
       "0     I\n",
       "1     A\n",
       "3     S\n",
       "14    W\n",
       "26    E\n",
       "Name: REGION, dtype: object"
      ]
     },
     "execution_count": 18,
     "metadata": {},
     "output_type": "execute_result"
    }
   ],
   "source": [
    "data.REGION.drop_duplicates()"
   ]
  },
  {
   "cell_type": "code",
   "execution_count": 19,
   "metadata": {},
   "outputs": [
    {
     "data": {
      "text/plain": [
       "(607,)"
      ]
     },
     "execution_count": 19,
     "metadata": {},
     "output_type": "execute_result"
    }
   ],
   "source": [
    "data.STORM_NO.drop_duplicates().sort_values().shape"
   ]
  },
  {
   "cell_type": "code",
   "execution_count": 20,
   "metadata": {},
   "outputs": [
    {
     "data": {
      "text/plain": [
       "(12699, 6)"
      ]
     },
     "execution_count": 20,
     "metadata": {},
     "output_type": "execute_result"
    }
   ],
   "source": [
    "data.drop_duplicates().shape"
   ]
  },
  {
   "cell_type": "code",
   "execution_count": 21,
   "metadata": {},
   "outputs": [
    {
     "data": {
      "text/plain": [
       "(0, 0, 0)"
      ]
     },
     "execution_count": 21,
     "metadata": {},
     "output_type": "execute_result"
    }
   ],
   "source": [
    "len(data[data.REGION.isna() == True]),len(data[data.STORM_NO.isna() == True]),len(data[data.SPEED.isna() == True])"
   ]
  },
  {
   "cell_type": "code",
   "execution_count": 22,
   "metadata": {},
   "outputs": [
    {
     "data": {
      "text/plain": [
       "(0, 0)"
      ]
     },
     "execution_count": 22,
     "metadata": {},
     "output_type": "execute_result"
    }
   ],
   "source": [
    "len(data[data.PRESSURE.isna() == True]), len(data[data.TYPE.isna() == True])"
   ]
  },
  {
   "cell_type": "code",
   "execution_count": 23,
   "metadata": {},
   "outputs": [],
   "source": [
    "data = data[data.TYPE.isna() == False]\n",
    "data = data[(data.TYPE == 'D') | (data.TYPE == 'H') | (data.TYPE == 'S') | (data.TYPE == 'U')]"
   ]
  },
  {
   "cell_type": "code",
   "execution_count": 24,
   "metadata": {},
   "outputs": [
    {
     "data": {
      "text/plain": [
       "array(['I', 'A', 'S', 'W', 'E'], dtype=object)"
      ]
     },
     "execution_count": 24,
     "metadata": {},
     "output_type": "execute_result"
    }
   ],
   "source": [
    "data.REGION.unique()"
   ]
  },
  {
   "cell_type": "code",
   "execution_count": 25,
   "metadata": {},
   "outputs": [
    {
     "data": {
      "text/plain": [
       "array(['D', 'H', 'S', 'U'], dtype=object)"
      ]
     },
     "execution_count": 25,
     "metadata": {},
     "output_type": "execute_result"
    }
   ],
   "source": [
    "data.TYPE.unique()"
   ]
  },
  {
   "cell_type": "code",
   "execution_count": 26,
   "metadata": {},
   "outputs": [
    {
     "data": {
      "text/html": [
       "<div>\n",
       "<style scoped>\n",
       "    .dataframe tbody tr th:only-of-type {\n",
       "        vertical-align: middle;\n",
       "    }\n",
       "\n",
       "    .dataframe tbody tr th {\n",
       "        vertical-align: top;\n",
       "    }\n",
       "\n",
       "    .dataframe thead th {\n",
       "        text-align: right;\n",
       "    }\n",
       "</style>\n",
       "<table border=\"1\" class=\"dataframe\">\n",
       "  <thead>\n",
       "    <tr style=\"text-align: right;\">\n",
       "      <th></th>\n",
       "      <th>ADVISORY</th>\n",
       "      <th>PRESSURE</th>\n",
       "      <th>REGION</th>\n",
       "      <th>SPEED</th>\n",
       "      <th>STORM_NO</th>\n",
       "      <th>TYPE</th>\n",
       "    </tr>\n",
       "  </thead>\n",
       "  <tbody>\n",
       "    <tr>\n",
       "      <th>0</th>\n",
       "      <td>0</td>\n",
       "      <td>0</td>\n",
       "      <td>I</td>\n",
       "      <td>-999</td>\n",
       "      <td>0</td>\n",
       "      <td>D</td>\n",
       "    </tr>\n",
       "    <tr>\n",
       "      <th>1</th>\n",
       "      <td>0</td>\n",
       "      <td>1012</td>\n",
       "      <td>A</td>\n",
       "      <td>25</td>\n",
       "      <td>3</td>\n",
       "      <td>D</td>\n",
       "    </tr>\n",
       "    <tr>\n",
       "      <th>2</th>\n",
       "      <td>0</td>\n",
       "      <td>1006</td>\n",
       "      <td>A</td>\n",
       "      <td>25</td>\n",
       "      <td>1</td>\n",
       "      <td>D</td>\n",
       "    </tr>\n",
       "    <tr>\n",
       "      <th>3</th>\n",
       "      <td>0</td>\n",
       "      <td>0</td>\n",
       "      <td>S</td>\n",
       "      <td>-999</td>\n",
       "      <td>0</td>\n",
       "      <td>D</td>\n",
       "    </tr>\n",
       "    <tr>\n",
       "      <th>4</th>\n",
       "      <td>0</td>\n",
       "      <td>979</td>\n",
       "      <td>A</td>\n",
       "      <td>77</td>\n",
       "      <td>9</td>\n",
       "      <td>H</td>\n",
       "    </tr>\n",
       "  </tbody>\n",
       "</table>\n",
       "</div>"
      ],
      "text/plain": [
       "   ADVISORY  PRESSURE REGION  SPEED  STORM_NO TYPE\n",
       "0         0         0      I   -999         0    D\n",
       "1         0      1012      A     25         3    D\n",
       "2         0      1006      A     25         1    D\n",
       "3         0         0      S   -999         0    D\n",
       "4         0       979      A     77         9    H"
      ]
     },
     "execution_count": 26,
     "metadata": {},
     "output_type": "execute_result"
    }
   ],
   "source": [
    "data.head(5)"
   ]
  },
  {
   "cell_type": "code",
   "execution_count": 27,
   "metadata": {},
   "outputs": [
    {
     "data": {
      "text/plain": [
       "(156365, 6)"
      ]
     },
     "execution_count": 27,
     "metadata": {},
     "output_type": "execute_result"
    }
   ],
   "source": [
    "# Removing rows with invalid speed\n",
    "data = data[(data.SPEED != 999) & (data.SPEED != -999)]\n",
    "data.shape"
   ]
  },
  {
   "cell_type": "code",
   "execution_count": 28,
   "metadata": {},
   "outputs": [
    {
     "data": {
      "text/html": [
       "<div>\n",
       "<style scoped>\n",
       "    .dataframe tbody tr th:only-of-type {\n",
       "        vertical-align: middle;\n",
       "    }\n",
       "\n",
       "    .dataframe tbody tr th {\n",
       "        vertical-align: top;\n",
       "    }\n",
       "\n",
       "    .dataframe thead th {\n",
       "        text-align: right;\n",
       "    }\n",
       "</style>\n",
       "<table border=\"1\" class=\"dataframe\">\n",
       "  <thead>\n",
       "    <tr style=\"text-align: right;\">\n",
       "      <th></th>\n",
       "      <th>ADVISORY</th>\n",
       "      <th>PRESSURE</th>\n",
       "      <th>SPEED</th>\n",
       "      <th>STORM_NO</th>\n",
       "    </tr>\n",
       "  </thead>\n",
       "  <tbody>\n",
       "    <tr>\n",
       "      <th>count</th>\n",
       "      <td>156365.000000</td>\n",
       "      <td>156365.000000</td>\n",
       "      <td>156365.000000</td>\n",
       "      <td>156365.000000</td>\n",
       "    </tr>\n",
       "    <tr>\n",
       "      <th>mean</th>\n",
       "      <td>4.099453</td>\n",
       "      <td>362.687430</td>\n",
       "      <td>52.266728</td>\n",
       "      <td>4.943510</td>\n",
       "    </tr>\n",
       "    <tr>\n",
       "      <th>std</th>\n",
       "      <td>10.277250</td>\n",
       "      <td>478.827623</td>\n",
       "      <td>28.076052</td>\n",
       "      <td>22.123711</td>\n",
       "    </tr>\n",
       "    <tr>\n",
       "      <th>min</th>\n",
       "      <td>0.000000</td>\n",
       "      <td>0.000000</td>\n",
       "      <td>0.000000</td>\n",
       "      <td>0.000000</td>\n",
       "    </tr>\n",
       "    <tr>\n",
       "      <th>25%</th>\n",
       "      <td>0.000000</td>\n",
       "      <td>0.000000</td>\n",
       "      <td>30.000000</td>\n",
       "      <td>0.000000</td>\n",
       "    </tr>\n",
       "    <tr>\n",
       "      <th>50%</th>\n",
       "      <td>0.000000</td>\n",
       "      <td>0.000000</td>\n",
       "      <td>45.000000</td>\n",
       "      <td>1.000000</td>\n",
       "    </tr>\n",
       "    <tr>\n",
       "      <th>75%</th>\n",
       "      <td>0.000000</td>\n",
       "      <td>987.000000</td>\n",
       "      <td>65.000000</td>\n",
       "      <td>7.000000</td>\n",
       "    </tr>\n",
       "    <tr>\n",
       "      <th>max</th>\n",
       "      <td>104.000000</td>\n",
       "      <td>9830.000000</td>\n",
       "      <td>185.000000</td>\n",
       "      <td>606.000000</td>\n",
       "    </tr>\n",
       "  </tbody>\n",
       "</table>\n",
       "</div>"
      ],
      "text/plain": [
       "            ADVISORY       PRESSURE          SPEED       STORM_NO\n",
       "count  156365.000000  156365.000000  156365.000000  156365.000000\n",
       "mean        4.099453     362.687430      52.266728       4.943510\n",
       "std        10.277250     478.827623      28.076052      22.123711\n",
       "min         0.000000       0.000000       0.000000       0.000000\n",
       "25%         0.000000       0.000000      30.000000       0.000000\n",
       "50%         0.000000       0.000000      45.000000       1.000000\n",
       "75%         0.000000     987.000000      65.000000       7.000000\n",
       "max       104.000000    9830.000000     185.000000     606.000000"
      ]
     },
     "execution_count": 28,
     "metadata": {},
     "output_type": "execute_result"
    }
   ],
   "source": [
    "data.describe()"
   ]
  },
  {
   "cell_type": "code",
   "execution_count": 29,
   "metadata": {},
   "outputs": [],
   "source": [
    "# Mapping Categorical Data before we train our model\n",
    "data['REGION_LBL'] = data.REGION.map({'A':0,'E':1,'I':2,'S':3,'W':4})\n",
    "data['TYPE_LABEL'] = data.TYPE.map({'D':0,'H':1,'S':2,'U':3,'':4})"
   ]
  },
  {
   "cell_type": "code",
   "execution_count": 30,
   "metadata": {},
   "outputs": [
    {
     "data": {
      "text/plain": [
       "Index(['ADVISORY', 'PRESSURE', 'REGION', 'SPEED', 'STORM_NO', 'TYPE',\n",
       "       'REGION_LBL', 'TYPE_LABEL'],\n",
       "      dtype='object')"
      ]
     },
     "execution_count": 30,
     "metadata": {},
     "output_type": "execute_result"
    }
   ],
   "source": [
    "data.columns"
   ]
  },
  {
   "cell_type": "code",
   "execution_count": 31,
   "metadata": {},
   "outputs": [],
   "source": [
    "# Splitting our Data into Features and Label\n",
    "y = data.TYPE_LABEL\n",
    "data = data.drop(columns = ['REGION','TYPE','TYPE_LABEL'])\n",
    "X = data"
   ]
  },
  {
   "cell_type": "code",
   "execution_count": 32,
   "metadata": {},
   "outputs": [],
   "source": [
    "from sklearn.model_selection import train_test_split"
   ]
  },
  {
   "cell_type": "code",
   "execution_count": 33,
   "metadata": {},
   "outputs": [
    {
     "name": "stdout",
     "output_type": "stream",
     "text": [
      "Number of examples in our data is 156365\n",
      "Number of examples in Training data is 109455\n",
      "Number of examples in Testing data is 46910\n",
      "Completed in 0.022s\n"
     ]
    }
   ],
   "source": [
    "# Splitting our data into Train and Test data\n",
    "t0 = time()\n",
    "X_train, X_test, y_train, y_test = train_test_split(X, y, test_size = 0.30,random_state = 2)\n",
    "print('Number of examples in our data is', len(X))\n",
    "print('Number of examples in Training data is', len(X_train))\n",
    "print('Number of examples in Testing data is', len(X_test))\n",
    "print(\"Completed in %0.3fs\" % (time() - t0))"
   ]
  },
  {
   "cell_type": "code",
   "execution_count": 34,
   "metadata": {},
   "outputs": [
    {
     "name": "stdout",
     "output_type": "stream",
     "text": [
      "Completed in 0.032 seconds\n"
     ]
    }
   ],
   "source": [
    "# Naive Bayes without Cross-Validation\n",
    "from sklearn.naive_bayes import MultinomialNB\n",
    "mnb = MultinomialNB();\n",
    "t0 = time()\n",
    "mnb.fit(X_train,y_train);\n",
    "print(\"Completed in %0.3f seconds\" % (time() - t0))"
   ]
  },
  {
   "cell_type": "code",
   "execution_count": 35,
   "metadata": {},
   "outputs": [
    {
     "name": "stdout",
     "output_type": "stream",
     "text": [
      "Accuracy: 13.123 %\n"
     ]
    }
   ],
   "source": [
    "y_pred = mnb.predict(X_test)\n",
    "# Checking for the Accuracy\n",
    "from sklearn.metrics import accuracy_score\n",
    "accuracy = accuracy_score(y_test,y_pred)\n",
    "print(\"Accuracy: %0.3f %%\" % (accuracy * 100.0))"
   ]
  },
  {
   "cell_type": "code",
   "execution_count": 36,
   "metadata": {},
   "outputs": [
    {
     "name": "stdout",
     "output_type": "stream",
     "text": [
      "Mean Accuracy: 13.300 %\n"
     ]
    }
   ],
   "source": [
    "# Naive Bayes without Cross-Validation (5 folds)\n",
    "from sklearn.model_selection import cross_val_score\n",
    "cv_scores = cross_val_score(mnb, X, y, cv=5, scoring=\"accuracy\")\n",
    "print(\"Mean Accuracy: %0.3f %%\" % (np.round(np.mean(cv_scores),3) * 100.0))"
   ]
  },
  {
   "cell_type": "code",
   "execution_count": 37,
   "metadata": {},
   "outputs": [
    {
     "name": "stdout",
     "output_type": "stream",
     "text": [
      "Mean Accuracy: 13.300 %\n"
     ]
    }
   ],
   "source": [
    "# Naive Bayes without Cross-Validation (10 folds)\n",
    "cv_scores = cross_val_score(mnb, X, y, cv=10, scoring=\"accuracy\")\n",
    "print(\"Mean Accuracy: %0.3f %%\" % (np.round(np.mean(cv_scores),3) * 100.0))"
   ]
  },
  {
   "cell_type": "code",
   "execution_count": 38,
   "metadata": {},
   "outputs": [],
   "source": [
    "from sklearn.linear_model import SGDClassifier\n",
    "sgd_clf = SGDClassifier(penalty='l2',max_iter=100, tol=None)"
   ]
  },
  {
   "cell_type": "code",
   "execution_count": 39,
   "metadata": {},
   "outputs": [
    {
     "name": "stdout",
     "output_type": "stream",
     "text": [
      "Number of examples in our data is 156365\n",
      "Number of examples in Training data is 109455\n",
      "Number of examples in Testing data is 46910\n",
      "Accuracy: 96.080 %\n",
      "Completed in 3.504 seconds\n"
     ]
    }
   ],
   "source": [
    "# SVM with SGD Without Cross-Validation\n",
    "t0 = time()\n",
    "X_train, X_test, y_train, y_test = train_test_split(X, y, test_size = 0.30,random_state = 2)\n",
    "sgd_clf.fit(X_train,y_train);\n",
    "y_pred = sgd_clf.predict(X_test)\n",
    "accuracy = accuracy_score(y_test,y_pred)\n",
    "print('Number of examples in our data is', len(X))\n",
    "print('Number of examples in Training data is', len(X_train))\n",
    "print('Number of examples in Testing data is', len(X_test))\n",
    "print(\"Accuracy: %0.3f %%\" % (accuracy * 100.0))\n",
    "print(\"Completed in %0.3f seconds\" % (time() - t0))"
   ]
  },
  {
   "cell_type": "code",
   "execution_count": 40,
   "metadata": {},
   "outputs": [
    {
     "name": "stdout",
     "output_type": "stream",
     "text": [
      "Mean Accuracy: 91.300 %\n",
      "Completed in 21.241 seconds\n"
     ]
    }
   ],
   "source": [
    "# SVM with SGD With Cross-Validation (5 folds)\n",
    "t0 = time()\n",
    "cv_scores = cross_val_score(sgd_clf, X, y, cv=5, scoring=\"accuracy\")\n",
    "print(\"Mean Accuracy: %0.3f %%\" % (np.round(np.mean(cv_scores),3) * 100.0))\n",
    "print(\"Completed in %0.3f seconds\" % (time() - t0))"
   ]
  },
  {
   "cell_type": "code",
   "execution_count": 41,
   "metadata": {},
   "outputs": [
    {
     "name": "stdout",
     "output_type": "stream",
     "text": [
      "Mean Accuracy: 94.100 %\n",
      "Completed in 50.809 seconds\n"
     ]
    }
   ],
   "source": [
    "# SVM with SGD With Cross-Validation (10 folds)\n",
    "t0 = time()\n",
    "cv_scores = cross_val_score(sgd_clf, X, y, cv=10, scoring=\"accuracy\")\n",
    "print(\"Mean Accuracy: %0.3f %%\" % (np.round(np.mean(cv_scores),3) * 100.0))\n",
    "print(\"Completed in %0.3f seconds\" % (time() - t0))"
   ]
  },
  {
   "cell_type": "code",
   "execution_count": 42,
   "metadata": {},
   "outputs": [],
   "source": [
    "from sklearn.ensemble import RandomForestClassifier\n",
    "from sklearn.ensemble import VotingClassifier\n",
    "from sklearn.linear_model import LogisticRegression\n",
    "from sklearn.svm import SVC"
   ]
  },
  {
   "cell_type": "code",
   "execution_count": 43,
   "metadata": {},
   "outputs": [
    {
     "name": "stdout",
     "output_type": "stream",
     "text": [
      "Number of examples in our data is 156365\n",
      "Number of examples in Training data is 109455\n",
      "Number of examples in Testing data is 46910\n",
      "Accuracy: 98.363 %\n",
      "Completed in 2.512 seconds\n"
     ]
    }
   ],
   "source": [
    "# Logistic Regression without Cross-Validation\n",
    "t0 = time()\n",
    "X_train, X_test, y_train, y_test = train_test_split(X, y, test_size = 0.30,random_state = 2)\n",
    "log_clf = LogisticRegression()\n",
    "log_clf.fit(X_train,y_train);\n",
    "y_pred = log_clf.predict(X_test)\n",
    "accuracy = accuracy_score(y_test, y_pred)\n",
    "print('Number of examples in our data is', len(X))\n",
    "print('Number of examples in Training data is', len(X_train))\n",
    "print('Number of examples in Testing data is', len(X_test))\n",
    "print(\"Accuracy: %0.3f %%\" % (accuracy * 100.0))\n",
    "print(\"Completed in %0.3f seconds\" % (time() - t0))"
   ]
  },
  {
   "cell_type": "code",
   "execution_count": 44,
   "metadata": {},
   "outputs": [
    {
     "name": "stdout",
     "output_type": "stream",
     "text": [
      "Mean Accuracy: 98.000 %\n",
      "Completed in 12.359 seconds\n"
     ]
    }
   ],
   "source": [
    "# Logistic Regression with Cross-Validation (5 folds)\n",
    "t0 = time()\n",
    "cv_scores = cross_val_score(log_clf, X, y, cv = 5, scoring = \"accuracy\")\n",
    "print(\"Mean Accuracy: %0.3f %%\" % (np.round(np.mean(cv_scores),3) * 100.0))\n",
    "print(\"Completed in %0.3f seconds\" % (time() - t0))"
   ]
  },
  {
   "cell_type": "code",
   "execution_count": 45,
   "metadata": {},
   "outputs": [
    {
     "name": "stdout",
     "output_type": "stream",
     "text": [
      "Mean Accuracy: 97.900 %\n",
      "Completed in 28.953 seconds\n"
     ]
    }
   ],
   "source": [
    "# Logistic Regression with Cross-Validation (10 folds)\n",
    "t0 = time()\n",
    "cv_scores = cross_val_score(log_clf, X, y, cv = 10, scoring = \"accuracy\")\n",
    "print(\"Mean Accuracy: %0.3f %%\" % (np.round(np.mean(cv_scores),3) * 100.0))\n",
    "print(\"Completed in %0.3f seconds\" % (time() - t0))"
   ]
  },
  {
   "cell_type": "code",
   "execution_count": 46,
   "metadata": {},
   "outputs": [
    {
     "name": "stdout",
     "output_type": "stream",
     "text": [
      "Number of examples in our data is 156365\n",
      "Number of examples in Training data is 93819\n",
      "Number of examples in Testing data is 62546\n",
      "Accuracy: 98.983 %\n",
      "Completed in 0.282 seconds\n"
     ]
    }
   ],
   "source": [
    "# Random Forest Classifier without Cross-Validation\n",
    "t0 = time()\n",
    "X_train, X_test, y_train, y_test = train_test_split(X, y, test_size = 0.40,random_state = 2)\n",
    "rnd_clf = RandomForestClassifier(n_estimators=10)\n",
    "rnd_clf.fit(X_train,y_train);\n",
    "y_pred = rnd_clf.predict(X_test)\n",
    "accuracy = accuracy_score(y_test, y_pred)\n",
    "print('Number of examples in our data is', len(X))\n",
    "print('Number of examples in Training data is', len(X_train))\n",
    "print('Number of examples in Testing data is', len(X_test))\n",
    "print(\"Accuracy: %0.3f %%\" % (accuracy * 100.0))\n",
    "print(\"Completed in %0.3f seconds\" % (time() - t0))"
   ]
  },
  {
   "cell_type": "code",
   "execution_count": 47,
   "metadata": {},
   "outputs": [
    {
     "name": "stdout",
     "output_type": "stream",
     "text": [
      "Mean Accuracy: 98.800 %\n",
      "Completed in 1.570 seconds\n"
     ]
    }
   ],
   "source": [
    "# Random Forest Classifier with Cross-Validation (5 folds)\n",
    "t0 = time()\n",
    "cv_scores = cross_val_score(rnd_clf,X= X,y= y, cv=5, scoring=\"accuracy\")\n",
    "print(\"Mean Accuracy: %0.3f %%\" % (np.round(np.mean(cv_scores),3) * 100.0))\n",
    "print(\"Completed in %0.3f seconds\" % (time() - t0))"
   ]
  },
  {
   "cell_type": "code",
   "execution_count": 48,
   "metadata": {},
   "outputs": [
    {
     "name": "stdout",
     "output_type": "stream",
     "text": [
      "Mean Accuracy: 98.900 %\n",
      "Completed in 3.772 seconds\n"
     ]
    }
   ],
   "source": [
    "# Random Forest Classifier with Cross-Validation (10 folds)\n",
    "t0 = time()\n",
    "cv_scores = cross_val_score(rnd_clf, X, y, cv=10, scoring=\"accuracy\")\n",
    "print(\"Mean Accuracy: %0.3f %%\" % (np.round(np.mean(cv_scores),3) * 100.0))\n",
    "print(\"Completed in %0.3f seconds\" % (time() - t0))"
   ]
  },
  {
   "cell_type": "code",
   "execution_count": 49,
   "metadata": {},
   "outputs": [
    {
     "name": "stdout",
     "output_type": "stream",
     "text": [
      "Number of examples in our data is 156365\n",
      "Number of examples in Training data is 101637\n",
      "Number of examples in Testing data is 54728\n",
      "Accuracy: 98.664 %\n",
      "Completed in 391.230 seconds\n"
     ]
    }
   ],
   "source": [
    "# Support Vector Machine without Cross-Validation\n",
    "t0 = time()\n",
    "X_train, X_test, y_train, y_test = train_test_split(X, y, test_size = 0.35,random_state = 2)\n",
    "svm_clf = SVC()\n",
    "svm_clf.fit(X_train,y_train);\n",
    "y_pred = svm_clf.predict(X_test)\n",
    "accuracy = accuracy_score(y_test, y_pred)\n",
    "print('Number of examples in our data is', len(X))\n",
    "print('Number of examples in Training data is', len(X_train))\n",
    "print('Number of examples in Testing data is', len(X_test))\n",
    "print(\"Accuracy: %0.3f %%\" % (accuracy * 100.0))\n",
    "print(\"Completed in %0.3f seconds\" % (time() - t0))"
   ]
  },
  {
   "cell_type": "code",
   "execution_count": 50,
   "metadata": {},
   "outputs": [
    {
     "name": "stdout",
     "output_type": "stream",
     "text": [
      "Number of examples in our data is 156365\n",
      "Number of examples in Training data is 101637\n",
      "Number of examples in Testing data is 54728\n",
      "Accuracy: 98.968 %\n",
      "Completed in 402.412 seconds\n"
     ]
    }
   ],
   "source": [
    "# Gradient Boosting (XGBoost) without Cross-Validation\n",
    "from xgboost import XGBClassifier\n",
    "xgb_clf = XGBClassifier()\n",
    "X_train, X_test, y_train, y_test = train_test_split(X, y, test_size = 0.35,random_state = 2)\n",
    "xgb_clf.fit(X_train,y_train);\n",
    "y_pred = xgb_clf.predict(X_test)\n",
    "accuracy = accuracy_score(y_test, y_pred)\n",
    "print('Number of examples in our data is', len(X))\n",
    "print('Number of examples in Training data is', len(X_train))\n",
    "print('Number of examples in Testing data is', len(X_test))\n",
    "print(\"Accuracy: %0.3f %%\" % (accuracy * 100.0))\n",
    "print(\"Completed in %0.3f seconds\" % (time() - t0))"
   ]
  },
  {
   "cell_type": "code",
   "execution_count": 51,
   "metadata": {},
   "outputs": [
    {
     "name": "stdout",
     "output_type": "stream",
     "text": [
      "Mean Accuracy: 98.900 %\n",
      "Completed in 73.581 seconds\n"
     ]
    }
   ],
   "source": [
    "# Gradient Boosting (XGBoost) with Cross-Validation (5 folds)\n",
    "t0 = time()\n",
    "cv_scores = cross_val_score(xgb_clf, X, y, cv=5, scoring=\"accuracy\")\n",
    "print(\"Mean Accuracy: %0.3f %%\" % (np.round(np.mean(cv_scores),3) * 100.0))\n",
    "print(\"Completed in %0.3f seconds\" % (time() - t0))"
   ]
  },
  {
   "cell_type": "code",
   "execution_count": 52,
   "metadata": {},
   "outputs": [
    {
     "name": "stdout",
     "output_type": "stream",
     "text": [
      "Mean Accuracy: 98.900 %\n",
      "Completed in 166.827 seconds\n"
     ]
    }
   ],
   "source": [
    "# Gradient Boosting (XGBoost) with Cross-Validation (10 folds)\n",
    "t0 = time()\n",
    "cv_scores = cross_val_score(xgb_clf, X, y, cv=10, scoring=\"accuracy\")\n",
    "print(\"Mean Accuracy: %0.3f %%\" % (np.round(np.mean(cv_scores),3) * 100.0))\n",
    "print(\"Completed in %0.3f seconds\" % (time() - t0))"
   ]
  }
 ],
 "metadata": {
  "kernelspec": {
   "display_name": "Python 3",
   "language": "python",
   "name": "python3"
  },
  "language_info": {
   "codemirror_mode": {
    "name": "ipython",
    "version": 3
   },
   "file_extension": ".py",
   "mimetype": "text/x-python",
   "name": "python",
   "nbconvert_exporter": "python",
   "pygments_lexer": "ipython3",
   "version": "3.7.1"
  },
  "latex_envs": {
   "LaTeX_envs_menu_present": true,
   "autoclose": false,
   "autocomplete": true,
   "bibliofile": "biblio.bib",
   "cite_by": "apalike",
   "current_citInitial": 1,
   "eqLabelWithNumbers": true,
   "eqNumInitial": 1,
   "hotkeys": {
    "equation": "Ctrl-E",
    "itemize": "Ctrl-I"
   },
   "labels_anchors": false,
   "latex_user_defs": false,
   "report_style_numbering": false,
   "user_envs_cfg": false
  }
 },
 "nbformat": 4,
 "nbformat_minor": 2
}
