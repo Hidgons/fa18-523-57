{
 "cells": [
  {
   "cell_type": "markdown",
   "metadata": {},
   "source": [
    "# Storm Data Machine Learning\n",
    "## Big Data Applications\n",
    "### Class: E534 | Group: fa18-523-57, fa18-523-58\n",
    "### Fall 2018\n",
    "### Indiana University"
   ]
  },
  {
   "cell_type": "code",
   "execution_count": 1,
   "metadata": {},
   "outputs": [],
   "source": [
    "import warnings\n",
    "warnings.filterwarnings(\"ignore\")"
   ]
  },
  {
   "cell_type": "code",
   "execution_count": 2,
   "metadata": {},
   "outputs": [],
   "source": [
    "import pymongo\n",
    "import pandas as pd\n",
    "import numpy as np"
   ]
  },
  {
   "cell_type": "markdown",
   "metadata": {},
   "source": [
    "### Importing Data stored in Azure Cosmos DB"
   ]
  },
  {
   "cell_type": "code",
   "execution_count": 3,
   "metadata": {},
   "outputs": [],
   "source": [
    "# Reading uri path from a file\n",
    "config_file = open('cosmos_db.config','r')\n",
    "uri_path = config_file.read()"
   ]
  },
  {
   "cell_type": "code",
   "execution_count": 4,
   "metadata": {},
   "outputs": [],
   "source": [
    "client = pymongo.MongoClient(uri_path)"
   ]
  },
  {
   "cell_type": "code",
   "execution_count": 5,
   "metadata": {},
   "outputs": [],
   "source": [
    "# Database Name and Collection Name\n",
    "db = client['test']\n",
    "collection = db['storm_data']"
   ]
  },
  {
   "cell_type": "code",
   "execution_count": null,
   "metadata": {},
   "outputs": [],
   "source": [
    "# Reading data from Cosmos DB as a Pandas Dataframe\n",
    "from time import time\n",
    "t0 = time()\n",
    "mongo_data = pd.DataFrame(list(collection.find()))\n",
    "print('Completed in ', np.round(time() - t0,3) , ' seconds')"
   ]
  },
  {
   "cell_type": "markdown",
   "metadata": {},
   "source": [
    "### Importing Data stored in Github Repository"
   ]
  },
  {
   "cell_type": "code",
   "execution_count": 6,
   "metadata": {},
   "outputs": [],
   "source": [
    "#mongo_data = pd.read_csv('./data/storm_data.csv')"
   ]
  },
  {
   "cell_type": "code",
   "execution_count": null,
   "metadata": {},
   "outputs": [],
   "source": [
    "print('The number of documents in the collection is: ', len(mongo_data))"
   ]
  },
  {
   "cell_type": "code",
   "execution_count": 21,
   "metadata": {},
   "outputs": [
    {
     "data": {
      "text/plain": [
       "(191716, 13)"
      ]
     },
     "execution_count": 21,
     "metadata": {},
     "output_type": "execute_result"
    }
   ],
   "source": [
    "mongo_data.shape \n",
    "# 173263 Rows, 13 Features/Columns"
   ]
  },
  {
   "cell_type": "code",
   "execution_count": 22,
   "metadata": {},
   "outputs": [
    {
     "data": {
      "text/html": [
       "<div>\n",
       "<style scoped>\n",
       "    .dataframe tbody tr th:only-of-type {\n",
       "        vertical-align: middle;\n",
       "    }\n",
       "\n",
       "    .dataframe tbody tr th {\n",
       "        vertical-align: top;\n",
       "    }\n",
       "\n",
       "    .dataframe thead th {\n",
       "        text-align: right;\n",
       "    }\n",
       "</style>\n",
       "<table border=\"1\" class=\"dataframe\">\n",
       "  <thead>\n",
       "    <tr style=\"text-align: right;\">\n",
       "      <th></th>\n",
       "      <th>_id</th>\n",
       "      <th>REGION</th>\n",
       "      <th>STORM_NO</th>\n",
       "      <th>NAME</th>\n",
       "      <th>ADVISORY</th>\n",
       "      <th>ADV_DATE</th>\n",
       "      <th>ADV_HOUR</th>\n",
       "      <th>SPEED</th>\n",
       "      <th>PRESSURE</th>\n",
       "      <th>TYPE</th>\n",
       "      <th>LAT</th>\n",
       "      <th>LONG_</th>\n",
       "      <th>LEN</th>\n",
       "    </tr>\n",
       "  </thead>\n",
       "  <tbody>\n",
       "    <tr>\n",
       "      <th>0</th>\n",
       "      <td>1</td>\n",
       "      <td>S</td>\n",
       "      <td>0</td>\n",
       "      <td>12/2/97</td>\n",
       "      <td>0</td>\n",
       "      <td>12/3/97</td>\n",
       "      <td>18</td>\n",
       "      <td>25</td>\n",
       "      <td>0</td>\n",
       "      <td>D</td>\n",
       "      <td>-8.6</td>\n",
       "      <td>0.0</td>\n",
       "      <td>24916.15849</td>\n",
       "    </tr>\n",
       "    <tr>\n",
       "      <th>1</th>\n",
       "      <td>2</td>\n",
       "      <td>I</td>\n",
       "      <td>0</td>\n",
       "      <td>2/11/79</td>\n",
       "      <td>0</td>\n",
       "      <td>2/11/79</td>\n",
       "      <td>12</td>\n",
       "      <td>-999</td>\n",
       "      <td>0</td>\n",
       "      <td>D</td>\n",
       "      <td>-16.4</td>\n",
       "      <td>0.0</td>\n",
       "      <td>120480.81140</td>\n",
       "    </tr>\n",
       "    <tr>\n",
       "      <th>2</th>\n",
       "      <td>3</td>\n",
       "      <td>A</td>\n",
       "      <td>6</td>\n",
       "      <td>FIFI</td>\n",
       "      <td>0</td>\n",
       "      <td>9/6/58</td>\n",
       "      <td>6</td>\n",
       "      <td>65</td>\n",
       "      <td>0</td>\n",
       "      <td>S</td>\n",
       "      <td>15.6</td>\n",
       "      <td>-55.7</td>\n",
       "      <td>218179.68900</td>\n",
       "    </tr>\n",
       "    <tr>\n",
       "      <th>3</th>\n",
       "      <td>4</td>\n",
       "      <td>A</td>\n",
       "      <td>6</td>\n",
       "      <td>FRANCES</td>\n",
       "      <td>0</td>\n",
       "      <td>9/2/04</td>\n",
       "      <td>0</td>\n",
       "      <td>120</td>\n",
       "      <td>939</td>\n",
       "      <td>H</td>\n",
       "      <td>22.2</td>\n",
       "      <td>-71.4</td>\n",
       "      <td>121127.72970</td>\n",
       "    </tr>\n",
       "    <tr>\n",
       "      <th>4</th>\n",
       "      <td>5</td>\n",
       "      <td>A</td>\n",
       "      <td>9</td>\n",
       "      <td>HELENE</td>\n",
       "      <td>0</td>\n",
       "      <td>9/27/88</td>\n",
       "      <td>18</td>\n",
       "      <td>77</td>\n",
       "      <td>979</td>\n",
       "      <td>H</td>\n",
       "      <td>30.9</td>\n",
       "      <td>-51.9</td>\n",
       "      <td>141631.07170</td>\n",
       "    </tr>\n",
       "  </tbody>\n",
       "</table>\n",
       "</div>"
      ],
      "text/plain": [
       "   _id REGION  STORM_NO     NAME  ADVISORY ADV_DATE  ADV_HOUR  SPEED  \\\n",
       "0    1      S         0  12/2/97         0  12/3/97        18     25   \n",
       "1    2      I         0  2/11/79         0  2/11/79        12   -999   \n",
       "2    3      A         6     FIFI         0   9/6/58         6     65   \n",
       "3    4      A         6  FRANCES         0   9/2/04         0    120   \n",
       "4    5      A         9   HELENE         0  9/27/88        18     77   \n",
       "\n",
       "   PRESSURE TYPE   LAT  LONG_           LEN  \n",
       "0         0    D  -8.6    0.0   24916.15849  \n",
       "1         0    D -16.4    0.0  120480.81140  \n",
       "2         0    S  15.6  -55.7  218179.68900  \n",
       "3       939    H  22.2  -71.4  121127.72970  \n",
       "4       979    H  30.9  -51.9  141631.07170  "
      ]
     },
     "execution_count": 22,
     "metadata": {},
     "output_type": "execute_result"
    }
   ],
   "source": [
    "mongo_data.head()"
   ]
  },
  {
   "cell_type": "markdown",
   "metadata": {},
   "source": [
    "### Pre-processing Data"
   ]
  },
  {
   "cell_type": "code",
   "execution_count": 23,
   "metadata": {},
   "outputs": [
    {
     "data": {
      "text/plain": [
       "(191716, 13)"
      ]
     },
     "execution_count": 23,
     "metadata": {},
     "output_type": "execute_result"
    }
   ],
   "source": [
    "mongo_data = mongo_data.drop_duplicates()\n",
    "mongo_data.shape"
   ]
  },
  {
   "cell_type": "code",
   "execution_count": 24,
   "metadata": {},
   "outputs": [],
   "source": [
    "# Dropping columns/features not needed\n",
    "data = mongo_data.drop(columns=['_id','ADV_DATE','ADV_HOUR','NAME','LEN','LAT','LONG_'])"
   ]
  },
  {
   "cell_type": "code",
   "execution_count": 25,
   "metadata": {},
   "outputs": [
    {
     "data": {
      "text/plain": [
       "(191716, 6)"
      ]
     },
     "execution_count": 25,
     "metadata": {},
     "output_type": "execute_result"
    }
   ],
   "source": [
    "data.shape "
   ]
  },
  {
   "cell_type": "code",
   "execution_count": 26,
   "metadata": {},
   "outputs": [
    {
     "data": {
      "text/plain": [
       "REGION      191716\n",
       "STORM_NO    191716\n",
       "ADVISORY    191716\n",
       "SPEED       191716\n",
       "PRESSURE    191716\n",
       "TYPE        191705\n",
       "dtype: int64"
      ]
     },
     "execution_count": 26,
     "metadata": {},
     "output_type": "execute_result"
    }
   ],
   "source": [
    "data.count()"
   ]
  },
  {
   "cell_type": "code",
   "execution_count": 27,
   "metadata": {},
   "outputs": [
    {
     "data": {
      "text/plain": [
       "REGION       0\n",
       "STORM_NO     0\n",
       "ADVISORY     0\n",
       "SPEED        0\n",
       "PRESSURE     0\n",
       "TYPE        11\n",
       "dtype: int64"
      ]
     },
     "execution_count": 27,
     "metadata": {},
     "output_type": "execute_result"
    }
   ],
   "source": [
    "data.isna().sum()"
   ]
  },
  {
   "cell_type": "code",
   "execution_count": 28,
   "metadata": {},
   "outputs": [
    {
     "data": {
      "text/plain": [
       "REGION       0\n",
       "STORM_NO     0\n",
       "ADVISORY     0\n",
       "SPEED        0\n",
       "PRESSURE     0\n",
       "TYPE        11\n",
       "dtype: int64"
      ]
     },
     "execution_count": 28,
     "metadata": {},
     "output_type": "execute_result"
    }
   ],
   "source": [
    "data.isnull().sum()"
   ]
  },
  {
   "cell_type": "code",
   "execution_count": 29,
   "metadata": {},
   "outputs": [
    {
     "name": "stdout",
     "output_type": "stream",
     "text": [
      "<class 'pandas.core.frame.DataFrame'>\n",
      "Int64Index: 191716 entries, 0 to 191715\n",
      "Data columns (total 6 columns):\n",
      "REGION      191716 non-null object\n",
      "STORM_NO    191716 non-null int64\n",
      "ADVISORY    191716 non-null int64\n",
      "SPEED       191716 non-null int64\n",
      "PRESSURE    191716 non-null int64\n",
      "TYPE        191705 non-null object\n",
      "dtypes: int64(4), object(2)\n",
      "memory usage: 10.2+ MB\n"
     ]
    }
   ],
   "source": [
    "data.info()"
   ]
  },
  {
   "cell_type": "code",
   "execution_count": 30,
   "metadata": {},
   "outputs": [
    {
     "data": {
      "text/plain": [
       "0           D\n",
       "2           S\n",
       "3           H\n",
       "61          U\n",
       "183200    NaN\n",
       "Name: TYPE, dtype: object"
      ]
     },
     "execution_count": 30,
     "metadata": {},
     "output_type": "execute_result"
    }
   ],
   "source": [
    "data.TYPE.drop_duplicates()"
   ]
  },
  {
   "cell_type": "code",
   "execution_count": 31,
   "metadata": {},
   "outputs": [
    {
     "data": {
      "text/plain": [
       "0     S\n",
       "1     I\n",
       "2     A\n",
       "10    W\n",
       "18    E\n",
       "Name: REGION, dtype: object"
      ]
     },
     "execution_count": 31,
     "metadata": {},
     "output_type": "execute_result"
    }
   ],
   "source": [
    "data.REGION.drop_duplicates()"
   ]
  },
  {
   "cell_type": "code",
   "execution_count": 32,
   "metadata": {},
   "outputs": [
    {
     "data": {
      "text/plain": [
       "(607,)"
      ]
     },
     "execution_count": 32,
     "metadata": {},
     "output_type": "execute_result"
    }
   ],
   "source": [
    "data.STORM_NO.drop_duplicates().sort_values().shape"
   ]
  },
  {
   "cell_type": "code",
   "execution_count": 33,
   "metadata": {},
   "outputs": [
    {
     "data": {
      "text/plain": [
       "(12928, 6)"
      ]
     },
     "execution_count": 33,
     "metadata": {},
     "output_type": "execute_result"
    }
   ],
   "source": [
    "data.drop_duplicates().shape"
   ]
  },
  {
   "cell_type": "code",
   "execution_count": 34,
   "metadata": {},
   "outputs": [
    {
     "data": {
      "text/plain": [
       "(0, 0, 0)"
      ]
     },
     "execution_count": 34,
     "metadata": {},
     "output_type": "execute_result"
    }
   ],
   "source": [
    "len(data[data.REGION.isna() == True]),len(data[data.STORM_NO.isna() == True]),len(data[data.SPEED.isna() == True])"
   ]
  },
  {
   "cell_type": "code",
   "execution_count": 35,
   "metadata": {},
   "outputs": [
    {
     "data": {
      "text/plain": [
       "(0, 11)"
      ]
     },
     "execution_count": 35,
     "metadata": {},
     "output_type": "execute_result"
    }
   ],
   "source": [
    "len(data[data.PRESSURE.isna() == True]), len(data[data.TYPE.isna() == True])"
   ]
  },
  {
   "cell_type": "code",
   "execution_count": 36,
   "metadata": {},
   "outputs": [],
   "source": [
    "data = data[data.TYPE.isna() == False]\n",
    "data = data[(data.TYPE == 'D') | (data.TYPE == 'H') | (data.TYPE == 'S') | (data.TYPE == 'U')]"
   ]
  },
  {
   "cell_type": "code",
   "execution_count": 37,
   "metadata": {},
   "outputs": [
    {
     "data": {
      "text/plain": [
       "array(['S', 'I', 'A', 'W', 'E'], dtype=object)"
      ]
     },
     "execution_count": 37,
     "metadata": {},
     "output_type": "execute_result"
    }
   ],
   "source": [
    "data.REGION.unique()"
   ]
  },
  {
   "cell_type": "code",
   "execution_count": 38,
   "metadata": {},
   "outputs": [
    {
     "data": {
      "text/plain": [
       "array(['D', 'S', 'H', 'U'], dtype=object)"
      ]
     },
     "execution_count": 38,
     "metadata": {},
     "output_type": "execute_result"
    }
   ],
   "source": [
    "data.TYPE.unique()"
   ]
  },
  {
   "cell_type": "code",
   "execution_count": 39,
   "metadata": {},
   "outputs": [
    {
     "data": {
      "text/html": [
       "<div>\n",
       "<style scoped>\n",
       "    .dataframe tbody tr th:only-of-type {\n",
       "        vertical-align: middle;\n",
       "    }\n",
       "\n",
       "    .dataframe tbody tr th {\n",
       "        vertical-align: top;\n",
       "    }\n",
       "\n",
       "    .dataframe thead th {\n",
       "        text-align: right;\n",
       "    }\n",
       "</style>\n",
       "<table border=\"1\" class=\"dataframe\">\n",
       "  <thead>\n",
       "    <tr style=\"text-align: right;\">\n",
       "      <th></th>\n",
       "      <th>REGION</th>\n",
       "      <th>STORM_NO</th>\n",
       "      <th>ADVISORY</th>\n",
       "      <th>SPEED</th>\n",
       "      <th>PRESSURE</th>\n",
       "      <th>TYPE</th>\n",
       "    </tr>\n",
       "  </thead>\n",
       "  <tbody>\n",
       "    <tr>\n",
       "      <th>0</th>\n",
       "      <td>S</td>\n",
       "      <td>0</td>\n",
       "      <td>0</td>\n",
       "      <td>25</td>\n",
       "      <td>0</td>\n",
       "      <td>D</td>\n",
       "    </tr>\n",
       "    <tr>\n",
       "      <th>1</th>\n",
       "      <td>I</td>\n",
       "      <td>0</td>\n",
       "      <td>0</td>\n",
       "      <td>-999</td>\n",
       "      <td>0</td>\n",
       "      <td>D</td>\n",
       "    </tr>\n",
       "    <tr>\n",
       "      <th>2</th>\n",
       "      <td>A</td>\n",
       "      <td>6</td>\n",
       "      <td>0</td>\n",
       "      <td>65</td>\n",
       "      <td>0</td>\n",
       "      <td>S</td>\n",
       "    </tr>\n",
       "    <tr>\n",
       "      <th>3</th>\n",
       "      <td>A</td>\n",
       "      <td>6</td>\n",
       "      <td>0</td>\n",
       "      <td>120</td>\n",
       "      <td>939</td>\n",
       "      <td>H</td>\n",
       "    </tr>\n",
       "    <tr>\n",
       "      <th>4</th>\n",
       "      <td>A</td>\n",
       "      <td>9</td>\n",
       "      <td>0</td>\n",
       "      <td>77</td>\n",
       "      <td>979</td>\n",
       "      <td>H</td>\n",
       "    </tr>\n",
       "  </tbody>\n",
       "</table>\n",
       "</div>"
      ],
      "text/plain": [
       "  REGION  STORM_NO  ADVISORY  SPEED  PRESSURE TYPE\n",
       "0      S         0         0     25         0    D\n",
       "1      I         0         0   -999         0    D\n",
       "2      A         6         0     65         0    S\n",
       "3      A         6         0    120       939    H\n",
       "4      A         9         0     77       979    H"
      ]
     },
     "execution_count": 39,
     "metadata": {},
     "output_type": "execute_result"
    }
   ],
   "source": [
    "data.head(5)"
   ]
  },
  {
   "cell_type": "code",
   "execution_count": 40,
   "metadata": {},
   "outputs": [
    {
     "data": {
      "text/plain": [
       "(172962, 6)"
      ]
     },
     "execution_count": 40,
     "metadata": {},
     "output_type": "execute_result"
    }
   ],
   "source": [
    "# Removing rows with invalid speed\n",
    "data = data[(data.SPEED != 999) & (data.SPEED != -999)]\n",
    "data.shape"
   ]
  },
  {
   "cell_type": "code",
   "execution_count": 41,
   "metadata": {},
   "outputs": [
    {
     "data": {
      "text/html": [
       "<div>\n",
       "<style scoped>\n",
       "    .dataframe tbody tr th:only-of-type {\n",
       "        vertical-align: middle;\n",
       "    }\n",
       "\n",
       "    .dataframe tbody tr th {\n",
       "        vertical-align: top;\n",
       "    }\n",
       "\n",
       "    .dataframe thead th {\n",
       "        text-align: right;\n",
       "    }\n",
       "</style>\n",
       "<table border=\"1\" class=\"dataframe\">\n",
       "  <thead>\n",
       "    <tr style=\"text-align: right;\">\n",
       "      <th></th>\n",
       "      <th>STORM_NO</th>\n",
       "      <th>ADVISORY</th>\n",
       "      <th>SPEED</th>\n",
       "      <th>PRESSURE</th>\n",
       "    </tr>\n",
       "  </thead>\n",
       "  <tbody>\n",
       "    <tr>\n",
       "      <th>count</th>\n",
       "      <td>172962.000000</td>\n",
       "      <td>172962.000000</td>\n",
       "      <td>172962.000000</td>\n",
       "      <td>172962.000000</td>\n",
       "    </tr>\n",
       "    <tr>\n",
       "      <th>mean</th>\n",
       "      <td>4.840474</td>\n",
       "      <td>4.093038</td>\n",
       "      <td>52.231750</td>\n",
       "      <td>364.613129</td>\n",
       "    </tr>\n",
       "    <tr>\n",
       "      <th>std</th>\n",
       "      <td>21.088996</td>\n",
       "      <td>10.275283</td>\n",
       "      <td>28.048877</td>\n",
       "      <td>479.268446</td>\n",
       "    </tr>\n",
       "    <tr>\n",
       "      <th>min</th>\n",
       "      <td>0.000000</td>\n",
       "      <td>0.000000</td>\n",
       "      <td>0.000000</td>\n",
       "      <td>0.000000</td>\n",
       "    </tr>\n",
       "    <tr>\n",
       "      <th>25%</th>\n",
       "      <td>0.000000</td>\n",
       "      <td>0.000000</td>\n",
       "      <td>30.000000</td>\n",
       "      <td>0.000000</td>\n",
       "    </tr>\n",
       "    <tr>\n",
       "      <th>50%</th>\n",
       "      <td>1.000000</td>\n",
       "      <td>0.000000</td>\n",
       "      <td>45.000000</td>\n",
       "      <td>0.000000</td>\n",
       "    </tr>\n",
       "    <tr>\n",
       "      <th>75%</th>\n",
       "      <td>7.000000</td>\n",
       "      <td>0.000000</td>\n",
       "      <td>65.000000</td>\n",
       "      <td>988.000000</td>\n",
       "    </tr>\n",
       "    <tr>\n",
       "      <th>max</th>\n",
       "      <td>606.000000</td>\n",
       "      <td>104.000000</td>\n",
       "      <td>185.000000</td>\n",
       "      <td>9830.000000</td>\n",
       "    </tr>\n",
       "  </tbody>\n",
       "</table>\n",
       "</div>"
      ],
      "text/plain": [
       "            STORM_NO       ADVISORY          SPEED       PRESSURE\n",
       "count  172962.000000  172962.000000  172962.000000  172962.000000\n",
       "mean        4.840474       4.093038      52.231750     364.613129\n",
       "std        21.088996      10.275283      28.048877     479.268446\n",
       "min         0.000000       0.000000       0.000000       0.000000\n",
       "25%         0.000000       0.000000      30.000000       0.000000\n",
       "50%         1.000000       0.000000      45.000000       0.000000\n",
       "75%         7.000000       0.000000      65.000000     988.000000\n",
       "max       606.000000     104.000000     185.000000    9830.000000"
      ]
     },
     "execution_count": 41,
     "metadata": {},
     "output_type": "execute_result"
    }
   ],
   "source": [
    "data.describe()"
   ]
  },
  {
   "cell_type": "code",
   "execution_count": 42,
   "metadata": {},
   "outputs": [],
   "source": [
    "# Mapping Categorical Data before we train our model\n",
    "data['REGION_LBL'] = data.REGION.map({'A':0,'E':1,'I':2,'S':3,'W':4})\n",
    "data['TYPE_LABEL'] = data.TYPE.map({'D':0,'H':1,'S':2,'U':3,'':4})"
   ]
  },
  {
   "cell_type": "code",
   "execution_count": 43,
   "metadata": {},
   "outputs": [
    {
     "data": {
      "text/plain": [
       "Index(['REGION', 'STORM_NO', 'ADVISORY', 'SPEED', 'PRESSURE', 'TYPE',\n",
       "       'REGION_LBL', 'TYPE_LABEL'],\n",
       "      dtype='object')"
      ]
     },
     "execution_count": 43,
     "metadata": {},
     "output_type": "execute_result"
    }
   ],
   "source": [
    "data.columns"
   ]
  },
  {
   "cell_type": "code",
   "execution_count": 44,
   "metadata": {},
   "outputs": [],
   "source": [
    "# Splitting our Data into Features and Label\n",
    "y = data.TYPE_LABEL\n",
    "data = data.drop(columns = ['REGION','TYPE','TYPE_LABEL'])\n",
    "X = data"
   ]
  },
  {
   "cell_type": "code",
   "execution_count": 45,
   "metadata": {},
   "outputs": [],
   "source": [
    "from sklearn.model_selection import train_test_split"
   ]
  },
  {
   "cell_type": "code",
   "execution_count": 46,
   "metadata": {},
   "outputs": [
    {
     "name": "stdout",
     "output_type": "stream",
     "text": [
      "Number of examples in our data is 172962\n",
      "Number of examples in Training data is 121073\n",
      "Number of examples in Testing data is 51889\n",
      "Completed in 0.020s\n"
     ]
    }
   ],
   "source": [
    "# Splitting our data into Train and Test data\n",
    "t0 = time()\n",
    "X_train, X_test, y_train, y_test = train_test_split(X, y, test_size = 0.30,random_state = 2)\n",
    "print('Number of examples in our data is', len(X))\n",
    "print('Number of examples in Training data is', len(X_train))\n",
    "print('Number of examples in Testing data is', len(X_test))\n",
    "print(\"Completed in %0.3fs\" % (time() - t0))"
   ]
  },
  {
   "cell_type": "code",
   "execution_count": 47,
   "metadata": {},
   "outputs": [
    {
     "name": "stdout",
     "output_type": "stream",
     "text": [
      "Completed in 0.026 seconds\n"
     ]
    }
   ],
   "source": [
    "# Naive Bayes without Cross-Validation\n",
    "from sklearn.naive_bayes import MultinomialNB\n",
    "mnb = MultinomialNB();\n",
    "t0 = time()\n",
    "mnb.fit(X_train,y_train);\n",
    "print(\"Completed in %0.3f seconds\" % (time() - t0))"
   ]
  },
  {
   "cell_type": "code",
   "execution_count": 48,
   "metadata": {},
   "outputs": [
    {
     "name": "stdout",
     "output_type": "stream",
     "text": [
      "Accuracy: 13.409 %\n"
     ]
    }
   ],
   "source": [
    "y_pred = mnb.predict(X_test)\n",
    "# Checking for the Accuracy\n",
    "from sklearn.metrics import accuracy_score\n",
    "accuracy = accuracy_score(y_test,y_pred)\n",
    "print(\"Accuracy: %0.3f %%\" % (accuracy * 100.0))"
   ]
  },
  {
   "cell_type": "code",
   "execution_count": 49,
   "metadata": {},
   "outputs": [
    {
     "name": "stdout",
     "output_type": "stream",
     "text": [
      "Mean Accuracy: 13.400 %\n"
     ]
    }
   ],
   "source": [
    "# Naive Bayes without Cross-Validation (5 folds)\n",
    "from sklearn.model_selection import cross_val_score\n",
    "cv_scores = cross_val_score(mnb, X, y, cv=5, scoring=\"accuracy\")\n",
    "print(\"Mean Accuracy: %0.3f %%\" % (np.round(np.mean(cv_scores),3) * 100.0))"
   ]
  },
  {
   "cell_type": "code",
   "execution_count": 50,
   "metadata": {},
   "outputs": [
    {
     "name": "stdout",
     "output_type": "stream",
     "text": [
      "Mean Accuracy: 13.400 %\n"
     ]
    }
   ],
   "source": [
    "# Naive Bayes without Cross-Validation (10 folds)\n",
    "cv_scores = cross_val_score(mnb, X, y, cv=10, scoring=\"accuracy\")\n",
    "print(\"Mean Accuracy: %0.3f %%\" % (np.round(np.mean(cv_scores),3) * 100.0))"
   ]
  },
  {
   "cell_type": "code",
   "execution_count": 51,
   "metadata": {},
   "outputs": [],
   "source": [
    "from sklearn.linear_model import SGDClassifier\n",
    "sgd_clf = SGDClassifier(penalty='l2',max_iter=100, tol=None)"
   ]
  },
  {
   "cell_type": "code",
   "execution_count": 39,
   "metadata": {},
   "outputs": [
    {
     "name": "stdout",
     "output_type": "stream",
     "text": [
      "Number of examples in our data is 156365\n",
      "Number of examples in Training data is 109455\n",
      "Number of examples in Testing data is 46910\n",
      "Accuracy: 96.080 %\n",
      "Completed in 3.504 seconds\n"
     ]
    }
   ],
   "source": [
    "# SVM with SGD Without Cross-Validation\n",
    "t0 = time()\n",
    "X_train, X_test, y_train, y_test = train_test_split(X, y, test_size = 0.30,random_state = 2)\n",
    "sgd_clf.fit(X_train,y_train);\n",
    "y_pred = sgd_clf.predict(X_test)\n",
    "accuracy = accuracy_score(y_test,y_pred)\n",
    "print('Number of examples in our data is', len(X))\n",
    "print('Number of examples in Training data is', len(X_train))\n",
    "print('Number of examples in Testing data is', len(X_test))\n",
    "print(\"Accuracy: %0.3f %%\" % (accuracy * 100.0))\n",
    "print(\"Completed in %0.3f seconds\" % (time() - t0))"
   ]
  },
  {
   "cell_type": "code",
   "execution_count": 40,
   "metadata": {},
   "outputs": [
    {
     "name": "stdout",
     "output_type": "stream",
     "text": [
      "Mean Accuracy: 91.300 %\n",
      "Completed in 21.241 seconds\n"
     ]
    }
   ],
   "source": [
    "# SVM with SGD With Cross-Validation (5 folds)\n",
    "t0 = time()\n",
    "cv_scores = cross_val_score(sgd_clf, X, y, cv=5, scoring=\"accuracy\")\n",
    "print(\"Mean Accuracy: %0.3f %%\" % (np.round(np.mean(cv_scores),3) * 100.0))\n",
    "print(\"Completed in %0.3f seconds\" % (time() - t0))"
   ]
  },
  {
   "cell_type": "code",
   "execution_count": 41,
   "metadata": {},
   "outputs": [
    {
     "name": "stdout",
     "output_type": "stream",
     "text": [
      "Mean Accuracy: 94.100 %\n",
      "Completed in 50.809 seconds\n"
     ]
    }
   ],
   "source": [
    "# SVM with SGD With Cross-Validation (10 folds)\n",
    "t0 = time()\n",
    "cv_scores = cross_val_score(sgd_clf, X, y, cv=10, scoring=\"accuracy\")\n",
    "print(\"Mean Accuracy: %0.3f %%\" % (np.round(np.mean(cv_scores),3) * 100.0))\n",
    "print(\"Completed in %0.3f seconds\" % (time() - t0))"
   ]
  },
  {
   "cell_type": "code",
   "execution_count": 42,
   "metadata": {},
   "outputs": [],
   "source": [
    "from sklearn.ensemble import RandomForestClassifier\n",
    "from sklearn.ensemble import VotingClassifier\n",
    "from sklearn.linear_model import LogisticRegression\n",
    "from sklearn.svm import SVC"
   ]
  },
  {
   "cell_type": "code",
   "execution_count": 43,
   "metadata": {},
   "outputs": [
    {
     "name": "stdout",
     "output_type": "stream",
     "text": [
      "Number of examples in our data is 156365\n",
      "Number of examples in Training data is 109455\n",
      "Number of examples in Testing data is 46910\n",
      "Accuracy: 98.363 %\n",
      "Completed in 2.512 seconds\n"
     ]
    }
   ],
   "source": [
    "# Logistic Regression without Cross-Validation\n",
    "t0 = time()\n",
    "X_train, X_test, y_train, y_test = train_test_split(X, y, test_size = 0.30,random_state = 2)\n",
    "log_clf = LogisticRegression()\n",
    "log_clf.fit(X_train,y_train);\n",
    "y_pred = log_clf.predict(X_test)\n",
    "accuracy = accuracy_score(y_test, y_pred)\n",
    "print('Number of examples in our data is', len(X))\n",
    "print('Number of examples in Training data is', len(X_train))\n",
    "print('Number of examples in Testing data is', len(X_test))\n",
    "print(\"Accuracy: %0.3f %%\" % (accuracy * 100.0))\n",
    "print(\"Completed in %0.3f seconds\" % (time() - t0))"
   ]
  },
  {
   "cell_type": "code",
   "execution_count": 44,
   "metadata": {},
   "outputs": [
    {
     "name": "stdout",
     "output_type": "stream",
     "text": [
      "Mean Accuracy: 98.000 %\n",
      "Completed in 12.359 seconds\n"
     ]
    }
   ],
   "source": [
    "# Logistic Regression with Cross-Validation (5 folds)\n",
    "t0 = time()\n",
    "cv_scores = cross_val_score(log_clf, X, y, cv = 5, scoring = \"accuracy\")\n",
    "print(\"Mean Accuracy: %0.3f %%\" % (np.round(np.mean(cv_scores),3) * 100.0))\n",
    "print(\"Completed in %0.3f seconds\" % (time() - t0))"
   ]
  },
  {
   "cell_type": "code",
   "execution_count": 45,
   "metadata": {},
   "outputs": [
    {
     "name": "stdout",
     "output_type": "stream",
     "text": [
      "Mean Accuracy: 97.900 %\n",
      "Completed in 28.953 seconds\n"
     ]
    }
   ],
   "source": [
    "# Logistic Regression with Cross-Validation (10 folds)\n",
    "t0 = time()\n",
    "cv_scores = cross_val_score(log_clf, X, y, cv = 10, scoring = \"accuracy\")\n",
    "print(\"Mean Accuracy: %0.3f %%\" % (np.round(np.mean(cv_scores),3) * 100.0))\n",
    "print(\"Completed in %0.3f seconds\" % (time() - t0))"
   ]
  },
  {
   "cell_type": "code",
   "execution_count": 46,
   "metadata": {},
   "outputs": [
    {
     "name": "stdout",
     "output_type": "stream",
     "text": [
      "Number of examples in our data is 156365\n",
      "Number of examples in Training data is 93819\n",
      "Number of examples in Testing data is 62546\n",
      "Accuracy: 98.983 %\n",
      "Completed in 0.282 seconds\n"
     ]
    }
   ],
   "source": [
    "# Random Forest Classifier without Cross-Validation\n",
    "t0 = time()\n",
    "X_train, X_test, y_train, y_test = train_test_split(X, y, test_size = 0.40,random_state = 2)\n",
    "rnd_clf = RandomForestClassifier(n_estimators=10)\n",
    "rnd_clf.fit(X_train,y_train);\n",
    "y_pred = rnd_clf.predict(X_test)\n",
    "accuracy = accuracy_score(y_test, y_pred)\n",
    "print('Number of examples in our data is', len(X))\n",
    "print('Number of examples in Training data is', len(X_train))\n",
    "print('Number of examples in Testing data is', len(X_test))\n",
    "print(\"Accuracy: %0.3f %%\" % (accuracy * 100.0))\n",
    "print(\"Completed in %0.3f seconds\" % (time() - t0))"
   ]
  },
  {
   "cell_type": "code",
   "execution_count": 47,
   "metadata": {},
   "outputs": [
    {
     "name": "stdout",
     "output_type": "stream",
     "text": [
      "Mean Accuracy: 98.800 %\n",
      "Completed in 1.570 seconds\n"
     ]
    }
   ],
   "source": [
    "# Random Forest Classifier with Cross-Validation (5 folds)\n",
    "t0 = time()\n",
    "cv_scores = cross_val_score(rnd_clf,X= X,y= y, cv=5, scoring=\"accuracy\")\n",
    "print(\"Mean Accuracy: %0.3f %%\" % (np.round(np.mean(cv_scores),3) * 100.0))\n",
    "print(\"Completed in %0.3f seconds\" % (time() - t0))"
   ]
  },
  {
   "cell_type": "code",
   "execution_count": 48,
   "metadata": {},
   "outputs": [
    {
     "name": "stdout",
     "output_type": "stream",
     "text": [
      "Mean Accuracy: 98.900 %\n",
      "Completed in 3.772 seconds\n"
     ]
    }
   ],
   "source": [
    "# Random Forest Classifier with Cross-Validation (10 folds)\n",
    "t0 = time()\n",
    "cv_scores = cross_val_score(rnd_clf, X, y, cv=10, scoring=\"accuracy\")\n",
    "print(\"Mean Accuracy: %0.3f %%\" % (np.round(np.mean(cv_scores),3) * 100.0))\n",
    "print(\"Completed in %0.3f seconds\" % (time() - t0))"
   ]
  },
  {
   "cell_type": "code",
   "execution_count": 49,
   "metadata": {},
   "outputs": [
    {
     "name": "stdout",
     "output_type": "stream",
     "text": [
      "Number of examples in our data is 156365\n",
      "Number of examples in Training data is 101637\n",
      "Number of examples in Testing data is 54728\n",
      "Accuracy: 98.664 %\n",
      "Completed in 391.230 seconds\n"
     ]
    }
   ],
   "source": [
    "# Support Vector Machine without Cross-Validation\n",
    "t0 = time()\n",
    "X_train, X_test, y_train, y_test = train_test_split(X, y, test_size = 0.35,random_state = 2)\n",
    "svm_clf = SVC()\n",
    "svm_clf.fit(X_train,y_train);\n",
    "y_pred = svm_clf.predict(X_test)\n",
    "accuracy = accuracy_score(y_test, y_pred)\n",
    "print('Number of examples in our data is', len(X))\n",
    "print('Number of examples in Training data is', len(X_train))\n",
    "print('Number of examples in Testing data is', len(X_test))\n",
    "print(\"Accuracy: %0.3f %%\" % (accuracy * 100.0))\n",
    "print(\"Completed in %0.3f seconds\" % (time() - t0))"
   ]
  },
  {
   "cell_type": "code",
   "execution_count": 50,
   "metadata": {},
   "outputs": [
    {
     "name": "stdout",
     "output_type": "stream",
     "text": [
      "Number of examples in our data is 156365\n",
      "Number of examples in Training data is 101637\n",
      "Number of examples in Testing data is 54728\n",
      "Accuracy: 98.968 %\n",
      "Completed in 402.412 seconds\n"
     ]
    }
   ],
   "source": [
    "# Gradient Boosting (XGBoost) without Cross-Validation\n",
    "from xgboost import XGBClassifier\n",
    "xgb_clf = XGBClassifier()\n",
    "X_train, X_test, y_train, y_test = train_test_split(X, y, test_size = 0.35,random_state = 2)\n",
    "xgb_clf.fit(X_train,y_train);\n",
    "y_pred = xgb_clf.predict(X_test)\n",
    "accuracy = accuracy_score(y_test, y_pred)\n",
    "print('Number of examples in our data is', len(X))\n",
    "print('Number of examples in Training data is', len(X_train))\n",
    "print('Number of examples in Testing data is', len(X_test))\n",
    "print(\"Accuracy: %0.3f %%\" % (accuracy * 100.0))\n",
    "print(\"Completed in %0.3f seconds\" % (time() - t0))"
   ]
  },
  {
   "cell_type": "code",
   "execution_count": 51,
   "metadata": {},
   "outputs": [
    {
     "name": "stdout",
     "output_type": "stream",
     "text": [
      "Mean Accuracy: 98.900 %\n",
      "Completed in 73.581 seconds\n"
     ]
    }
   ],
   "source": [
    "# Gradient Boosting (XGBoost) with Cross-Validation (5 folds)\n",
    "t0 = time()\n",
    "cv_scores = cross_val_score(xgb_clf, X, y, cv=5, scoring=\"accuracy\")\n",
    "print(\"Mean Accuracy: %0.3f %%\" % (np.round(np.mean(cv_scores),3) * 100.0))\n",
    "print(\"Completed in %0.3f seconds\" % (time() - t0))"
   ]
  },
  {
   "cell_type": "code",
   "execution_count": 52,
   "metadata": {},
   "outputs": [
    {
     "name": "stdout",
     "output_type": "stream",
     "text": [
      "Mean Accuracy: 98.900 %\n",
      "Completed in 166.827 seconds\n"
     ]
    }
   ],
   "source": [
    "# Gradient Boosting (XGBoost) with Cross-Validation (10 folds)\n",
    "t0 = time()\n",
    "cv_scores = cross_val_score(xgb_clf, X, y, cv=10, scoring=\"accuracy\")\n",
    "print(\"Mean Accuracy: %0.3f %%\" % (np.round(np.mean(cv_scores),3) * 100.0))\n",
    "print(\"Completed in %0.3f seconds\" % (time() - t0))"
   ]
  }
 ],
 "metadata": {
  "kernelspec": {
   "display_name": "Python 3",
   "language": "python",
   "name": "python3"
  },
  "language_info": {
   "codemirror_mode": {
    "name": "ipython",
    "version": 3
   },
   "file_extension": ".py",
   "mimetype": "text/x-python",
   "name": "python",
   "nbconvert_exporter": "python",
   "pygments_lexer": "ipython3",
   "version": "3.7.1"
  },
  "latex_envs": {
   "LaTeX_envs_menu_present": true,
   "autoclose": false,
   "autocomplete": true,
   "bibliofile": "biblio.bib",
   "cite_by": "apalike",
   "current_citInitial": 1,
   "eqLabelWithNumbers": true,
   "eqNumInitial": 1,
   "hotkeys": {
    "equation": "Ctrl-E",
    "itemize": "Ctrl-I"
   },
   "labels_anchors": false,
   "latex_user_defs": false,
   "report_style_numbering": false,
   "user_envs_cfg": false
  }
 },
 "nbformat": 4,
 "nbformat_minor": 2
}
